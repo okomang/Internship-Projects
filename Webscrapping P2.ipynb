{
 "cells": [
  {
   "cell_type": "code",
   "execution_count": 2,
   "metadata": {},
   "outputs": [],
   "source": [
    "import selenium\n",
    "from selenium import webdriver\n",
    "import pandas as pd\n",
    "import time"
   ]
  },
  {
   "cell_type": "code",
   "execution_count": 2,
   "metadata": {},
   "outputs": [],
   "source": [
    "driver=webdriver.Chrome(r\"C:\\Users\\HP\\Desktop\\chromedriver.exe\")"
   ]
  },
  {
   "cell_type": "markdown",
   "metadata": {},
   "source": [
    "# Question 1"
   ]
  },
  {
   "cell_type": "code",
   "execution_count": 3,
   "metadata": {},
   "outputs": [],
   "source": [
    "url='https://www.naukri.com/'"
   ]
  },
  {
   "cell_type": "code",
   "execution_count": 4,
   "metadata": {},
   "outputs": [],
   "source": [
    "driver.get(url)"
   ]
  },
  {
   "cell_type": "code",
   "execution_count": 5,
   "metadata": {},
   "outputs": [],
   "source": [
    "searchbox=driver.find_element_by_xpath('//*[@id=\"qsb-keyword-sugg\"]')"
   ]
  },
  {
   "cell_type": "code",
   "execution_count": 6,
   "metadata": {},
   "outputs": [],
   "source": [
    "searchbox.send_keys('Data Analyst')"
   ]
  },
  {
   "cell_type": "code",
   "execution_count": 7,
   "metadata": {},
   "outputs": [],
   "source": [
    "searchloc=driver.find_element_by_xpath('//*[@id=\"qsb-location-sugg\"]')\n",
    "searchloc.send_keys('Bangalore')"
   ]
  },
  {
   "cell_type": "code",
   "execution_count": 8,
   "metadata": {},
   "outputs": [],
   "source": [
    "button=driver.find_element_by_xpath(\"//div[@class='search-btn']\").click()\n",
    "time.sleep(3)"
   ]
  },
  {
   "cell_type": "code",
   "execution_count": 9,
   "metadata": {},
   "outputs": [],
   "source": [
    "name=driver.find_elements_by_xpath(\"//a[@class='title fw500 ellipsis']\")"
   ]
  },
  {
   "cell_type": "code",
   "execution_count": 11,
   "metadata": {},
   "outputs": [],
   "source": [
    "job_title=[]\n",
    "for i in name:\n",
    "    a=i.text\n",
    "    job_title.append(a)"
   ]
  },
  {
   "cell_type": "code",
   "execution_count": 12,
   "metadata": {},
   "outputs": [
    {
     "data": {
      "text/plain": [
       "20"
      ]
     },
     "execution_count": 12,
     "metadata": {},
     "output_type": "execute_result"
    }
   ],
   "source": [
    "len(job_title)"
   ]
  },
  {
   "cell_type": "code",
   "execution_count": 13,
   "metadata": {},
   "outputs": [],
   "source": [
    "jl=driver.find_elements_by_xpath(\"//li[@class='fleft grey-text br2 placeHolderLi location']/span\")"
   ]
  },
  {
   "cell_type": "code",
   "execution_count": 14,
   "metadata": {},
   "outputs": [
    {
     "data": {
      "text/plain": [
       "20"
      ]
     },
     "execution_count": 14,
     "metadata": {},
     "output_type": "execute_result"
    }
   ],
   "source": [
    "len(jl)"
   ]
  },
  {
   "cell_type": "code",
   "execution_count": 15,
   "metadata": {},
   "outputs": [],
   "source": [
    "job_location=[]\n",
    "for i in jl:\n",
    "    a=i.text\n",
    "    job_location.append(a)"
   ]
  },
  {
   "cell_type": "code",
   "execution_count": 16,
   "metadata": {},
   "outputs": [],
   "source": [
    "cn=driver.find_elements_by_xpath(\"//div[@class='mt-7 companyInfo subheading lh16']/a[1]\")"
   ]
  },
  {
   "cell_type": "code",
   "execution_count": 17,
   "metadata": {},
   "outputs": [],
   "source": [
    "company_name=[]\n",
    "for i in cn:\n",
    "    a=i.text\n",
    "    company_name.append(a)"
   ]
  },
  {
   "cell_type": "code",
   "execution_count": 19,
   "metadata": {},
   "outputs": [],
   "source": [
    "e=driver.find_elements_by_xpath(\"//li[@class='fleft grey-text br2 placeHolderLi experience']/span\")"
   ]
  },
  {
   "cell_type": "code",
   "execution_count": 20,
   "metadata": {},
   "outputs": [],
   "source": [
    "exp=[]\n",
    "for i in e:\n",
    "    a=i.text\n",
    "    exp.append(a)"
   ]
  },
  {
   "cell_type": "code",
   "execution_count": 21,
   "metadata": {},
   "outputs": [],
   "source": [
    "as1=pd.DataFrame({})\n",
    "as1['Job Title']=job_title\n",
    "as1['Job Location']=job_location\n",
    "as1['Company Name']=company_name\n",
    "as1['Experience Required']=exp"
   ]
  },
  {
   "cell_type": "code",
   "execution_count": 22,
   "metadata": {},
   "outputs": [
    {
     "data": {
      "text/html": [
       "<div>\n",
       "<style scoped>\n",
       "    .dataframe tbody tr th:only-of-type {\n",
       "        vertical-align: middle;\n",
       "    }\n",
       "\n",
       "    .dataframe tbody tr th {\n",
       "        vertical-align: top;\n",
       "    }\n",
       "\n",
       "    .dataframe thead th {\n",
       "        text-align: right;\n",
       "    }\n",
       "</style>\n",
       "<table border=\"1\" class=\"dataframe\">\n",
       "  <thead>\n",
       "    <tr style=\"text-align: right;\">\n",
       "      <th></th>\n",
       "      <th>Job Title</th>\n",
       "      <th>Job Location</th>\n",
       "      <th>Company Name</th>\n",
       "      <th>Experience Required</th>\n",
       "    </tr>\n",
       "  </thead>\n",
       "  <tbody>\n",
       "    <tr>\n",
       "      <th>0</th>\n",
       "      <td>Data Scientist/Data Analyst-immediate</td>\n",
       "      <td>Chennai, Pune, Bengaluru, Hyderabad</td>\n",
       "      <td>CAIA-Center For Artificial Intelligence &amp; Adva...</td>\n",
       "      <td>0-3 Yrs</td>\n",
       "    </tr>\n",
       "    <tr>\n",
       "      <th>1</th>\n",
       "      <td>Immediate openings For MIS executive /Data ana...</td>\n",
       "      <td>Bengaluru</td>\n",
       "      <td>RANDSTAD INDIA PVT LTD</td>\n",
       "      <td>3-8 Yrs</td>\n",
       "    </tr>\n",
       "    <tr>\n",
       "      <th>2</th>\n",
       "      <td>Data Analyst</td>\n",
       "      <td>Bengaluru</td>\n",
       "      <td>Applied Materials</td>\n",
       "      <td>6-11 Yrs</td>\n",
       "    </tr>\n",
       "    <tr>\n",
       "      <th>3</th>\n",
       "      <td>Data Analyst</td>\n",
       "      <td>Mumbai, Bengaluru, Hyderabad</td>\n",
       "      <td>Cognizant Technology Solutions India Pvt Ltd</td>\n",
       "      <td>2-3 Yrs</td>\n",
       "    </tr>\n",
       "    <tr>\n",
       "      <th>4</th>\n",
       "      <td>Data Analyst</td>\n",
       "      <td>Bengaluru</td>\n",
       "      <td>St. John’s Research Institute</td>\n",
       "      <td>0-4 Yrs</td>\n",
       "    </tr>\n",
       "    <tr>\n",
       "      <th>5</th>\n",
       "      <td>Data Analyst</td>\n",
       "      <td>Bengaluru</td>\n",
       "      <td>Siemens Limited</td>\n",
       "      <td>0-3 Yrs</td>\n",
       "    </tr>\n",
       "    <tr>\n",
       "      <th>6</th>\n",
       "      <td>Procurement Data Analyst ( 0.6 To 3 Yrs, Banga...</td>\n",
       "      <td>Bengaluru(Koramangala)</td>\n",
       "      <td>Sunstream Global Technologies LLP</td>\n",
       "      <td>0-3 Yrs</td>\n",
       "    </tr>\n",
       "    <tr>\n",
       "      <th>7</th>\n",
       "      <td>ID&amp;A - Data Analyst - Informatica MDM</td>\n",
       "      <td>Bengaluru</td>\n",
       "      <td>Shell India Markets Private Limited</td>\n",
       "      <td>6-9 Yrs</td>\n",
       "    </tr>\n",
       "    <tr>\n",
       "      <th>8</th>\n",
       "      <td>Data Analyst</td>\n",
       "      <td>Bengaluru</td>\n",
       "      <td>GlaxoSmithKline Pharmaceuticals Limited</td>\n",
       "      <td>2-7 Yrs</td>\n",
       "    </tr>\n",
       "    <tr>\n",
       "      <th>9</th>\n",
       "      <td>Data Analyst</td>\n",
       "      <td>Bengaluru, Kolkata</td>\n",
       "      <td>Cognizant Technology Solutions India Pvt Ltd</td>\n",
       "      <td>3-4 Yrs</td>\n",
       "    </tr>\n",
       "    <tr>\n",
       "      <th>10</th>\n",
       "      <td>Data Analyst - O2C - Bangalore</td>\n",
       "      <td>Bengaluru</td>\n",
       "      <td>RANDSTAD INDIA PVT LTD</td>\n",
       "      <td>2-4 Yrs</td>\n",
       "    </tr>\n",
       "    <tr>\n",
       "      <th>11</th>\n",
       "      <td>Business Data Analyst - Database Design/Mining</td>\n",
       "      <td>Bengaluru</td>\n",
       "      <td>AugmatrixGo</td>\n",
       "      <td>2-5 Yrs</td>\n",
       "    </tr>\n",
       "    <tr>\n",
       "      <th>12</th>\n",
       "      <td>Data Analyst - MySQL/PostgreSQL</td>\n",
       "      <td>Pune, Mumbai, Bengaluru, Hyderabad, Noida, Jaipur</td>\n",
       "      <td>Astegic</td>\n",
       "      <td>5-10 Yrs</td>\n",
       "    </tr>\n",
       "    <tr>\n",
       "      <th>13</th>\n",
       "      <td>Hiring For Data Analyst On Contractual Role</td>\n",
       "      <td>Bengaluru</td>\n",
       "      <td>Flipkart Internet Private Limited</td>\n",
       "      <td>1-3 Yrs</td>\n",
       "    </tr>\n",
       "    <tr>\n",
       "      <th>14</th>\n",
       "      <td>Data Analyst</td>\n",
       "      <td>Bengaluru</td>\n",
       "      <td>IBM India Pvt. Limited</td>\n",
       "      <td>5-8 Yrs</td>\n",
       "    </tr>\n",
       "    <tr>\n",
       "      <th>15</th>\n",
       "      <td>Hiring For Data Analyst (On Contractual Role)</td>\n",
       "      <td>Bengaluru</td>\n",
       "      <td>Flipkart Internet Private Limited</td>\n",
       "      <td>2-4 Yrs</td>\n",
       "    </tr>\n",
       "    <tr>\n",
       "      <th>16</th>\n",
       "      <td>SENIOR DATA ANALYST</td>\n",
       "      <td>Bengaluru</td>\n",
       "      <td>McAfee Software (India) Pvt. Ltd</td>\n",
       "      <td>4-7 Yrs</td>\n",
       "    </tr>\n",
       "    <tr>\n",
       "      <th>17</th>\n",
       "      <td>Sr Data Analyst - Contractual Role | Nike</td>\n",
       "      <td>Bengaluru</td>\n",
       "      <td>ANSR GLOBAL CORPORATION PRIVATE LIMITED</td>\n",
       "      <td>5-8 Yrs</td>\n",
       "    </tr>\n",
       "    <tr>\n",
       "      <th>18</th>\n",
       "      <td>Data Analyst</td>\n",
       "      <td>Bengaluru</td>\n",
       "      <td>Snaphunt</td>\n",
       "      <td>3-5 Yrs</td>\n",
       "    </tr>\n",
       "    <tr>\n",
       "      <th>19</th>\n",
       "      <td>Data Analyst / Scientist</td>\n",
       "      <td>Bengaluru</td>\n",
       "      <td>Blisaura Events Studio Pvt Ltd</td>\n",
       "      <td>2-5 Yrs</td>\n",
       "    </tr>\n",
       "  </tbody>\n",
       "</table>\n",
       "</div>"
      ],
      "text/plain": [
       "                                            Job Title  \\\n",
       "0               Data Scientist/Data Analyst-immediate   \n",
       "1   Immediate openings For MIS executive /Data ana...   \n",
       "2                                        Data Analyst   \n",
       "3                                        Data Analyst   \n",
       "4                                        Data Analyst   \n",
       "5                                        Data Analyst   \n",
       "6   Procurement Data Analyst ( 0.6 To 3 Yrs, Banga...   \n",
       "7               ID&A - Data Analyst - Informatica MDM   \n",
       "8                                        Data Analyst   \n",
       "9                                        Data Analyst   \n",
       "10                     Data Analyst - O2C - Bangalore   \n",
       "11     Business Data Analyst - Database Design/Mining   \n",
       "12                    Data Analyst - MySQL/PostgreSQL   \n",
       "13        Hiring For Data Analyst On Contractual Role   \n",
       "14                                       Data Analyst   \n",
       "15      Hiring For Data Analyst (On Contractual Role)   \n",
       "16                                SENIOR DATA ANALYST   \n",
       "17          Sr Data Analyst - Contractual Role | Nike   \n",
       "18                                       Data Analyst   \n",
       "19                           Data Analyst / Scientist   \n",
       "\n",
       "                                         Job Location  \\\n",
       "0                 Chennai, Pune, Bengaluru, Hyderabad   \n",
       "1                                           Bengaluru   \n",
       "2                                           Bengaluru   \n",
       "3                        Mumbai, Bengaluru, Hyderabad   \n",
       "4                                           Bengaluru   \n",
       "5                                           Bengaluru   \n",
       "6                              Bengaluru(Koramangala)   \n",
       "7                                           Bengaluru   \n",
       "8                                           Bengaluru   \n",
       "9                                  Bengaluru, Kolkata   \n",
       "10                                          Bengaluru   \n",
       "11                                          Bengaluru   \n",
       "12  Pune, Mumbai, Bengaluru, Hyderabad, Noida, Jaipur   \n",
       "13                                          Bengaluru   \n",
       "14                                          Bengaluru   \n",
       "15                                          Bengaluru   \n",
       "16                                          Bengaluru   \n",
       "17                                          Bengaluru   \n",
       "18                                          Bengaluru   \n",
       "19                                          Bengaluru   \n",
       "\n",
       "                                         Company Name Experience Required  \n",
       "0   CAIA-Center For Artificial Intelligence & Adva...             0-3 Yrs  \n",
       "1                              RANDSTAD INDIA PVT LTD             3-8 Yrs  \n",
       "2                                   Applied Materials            6-11 Yrs  \n",
       "3        Cognizant Technology Solutions India Pvt Ltd             2-3 Yrs  \n",
       "4                       St. John’s Research Institute             0-4 Yrs  \n",
       "5                                     Siemens Limited             0-3 Yrs  \n",
       "6                   Sunstream Global Technologies LLP             0-3 Yrs  \n",
       "7                 Shell India Markets Private Limited             6-9 Yrs  \n",
       "8             GlaxoSmithKline Pharmaceuticals Limited             2-7 Yrs  \n",
       "9        Cognizant Technology Solutions India Pvt Ltd             3-4 Yrs  \n",
       "10                             RANDSTAD INDIA PVT LTD             2-4 Yrs  \n",
       "11                                        AugmatrixGo             2-5 Yrs  \n",
       "12                                            Astegic            5-10 Yrs  \n",
       "13                  Flipkart Internet Private Limited             1-3 Yrs  \n",
       "14                             IBM India Pvt. Limited             5-8 Yrs  \n",
       "15                  Flipkart Internet Private Limited             2-4 Yrs  \n",
       "16                   McAfee Software (India) Pvt. Ltd             4-7 Yrs  \n",
       "17            ANSR GLOBAL CORPORATION PRIVATE LIMITED             5-8 Yrs  \n",
       "18                                           Snaphunt             3-5 Yrs  \n",
       "19                     Blisaura Events Studio Pvt Ltd             2-5 Yrs  "
      ]
     },
     "execution_count": 22,
     "metadata": {},
     "output_type": "execute_result"
    }
   ],
   "source": [
    "as1"
   ]
  },
  {
   "cell_type": "markdown",
   "metadata": {},
   "source": [
    "# Question 2"
   ]
  },
  {
   "cell_type": "code",
   "execution_count": 23,
   "metadata": {},
   "outputs": [],
   "source": [
    "driver.get(url)"
   ]
  },
  {
   "cell_type": "code",
   "execution_count": 24,
   "metadata": {},
   "outputs": [],
   "source": [
    "searchbox=driver.find_element_by_xpath('//*[@id=\"qsb-keyword-sugg\"]')"
   ]
  },
  {
   "cell_type": "code",
   "execution_count": 25,
   "metadata": {},
   "outputs": [],
   "source": [
    "searchbox.send_keys('Data Scientist')"
   ]
  },
  {
   "cell_type": "code",
   "execution_count": 26,
   "metadata": {},
   "outputs": [],
   "source": [
    "searchloc=driver.find_element_by_xpath('//*[@id=\"qsb-location-sugg\"]')\n",
    "searchloc.send_keys('Bangalore')"
   ]
  },
  {
   "cell_type": "code",
   "execution_count": 27,
   "metadata": {},
   "outputs": [],
   "source": [
    "button=driver.find_element_by_xpath(\"//div[@class='search-btn']\").click()\n",
    "time.sleep(3)"
   ]
  },
  {
   "cell_type": "code",
   "execution_count": 28,
   "metadata": {},
   "outputs": [],
   "source": [
    "name=driver.find_elements_by_xpath(\"//a[@class='title fw500 ellipsis']\")"
   ]
  },
  {
   "cell_type": "code",
   "execution_count": 29,
   "metadata": {},
   "outputs": [],
   "source": [
    "job_title=[]\n",
    "for i in name:\n",
    "    a=i.text\n",
    "    job_title.append(a)"
   ]
  },
  {
   "cell_type": "code",
   "execution_count": 30,
   "metadata": {},
   "outputs": [],
   "source": [
    "jl=driver.find_elements_by_xpath(\"//li[@class='fleft grey-text br2 placeHolderLi location']/span\")"
   ]
  },
  {
   "cell_type": "code",
   "execution_count": 31,
   "metadata": {},
   "outputs": [],
   "source": [
    "job_location=[]\n",
    "for i in jl:\n",
    "    a=i.text\n",
    "    job_location.append(a)"
   ]
  },
  {
   "cell_type": "code",
   "execution_count": 33,
   "metadata": {},
   "outputs": [],
   "source": [
    "cn=driver.find_elements_by_xpath(\"//div[@class='mt-7 companyInfo subheading lh16']/a[1]\")"
   ]
  },
  {
   "cell_type": "code",
   "execution_count": 34,
   "metadata": {},
   "outputs": [],
   "source": [
    "company_name=[]\n",
    "for i in cn:\n",
    "    a=i.text\n",
    "    company_name.append(a)"
   ]
  },
  {
   "cell_type": "code",
   "execution_count": 36,
   "metadata": {},
   "outputs": [],
   "source": [
    "e=driver.find_elements_by_xpath(\"//li[@class='fleft grey-text br2 placeHolderLi experience']/span\")"
   ]
  },
  {
   "cell_type": "code",
   "execution_count": 37,
   "metadata": {},
   "outputs": [],
   "source": [
    "exp=[]\n",
    "for i in e:\n",
    "    a=i.text\n",
    "    exp.append(a)"
   ]
  },
  {
   "cell_type": "code",
   "execution_count": 38,
   "metadata": {},
   "outputs": [],
   "source": [
    "as2=pd.DataFrame({})\n",
    "as2['Job Title']=job_title\n",
    "as2['Job Location']=job_location\n",
    "as2['Company Name']=company_name\n",
    "as2['Experience Required']=exp"
   ]
  },
  {
   "cell_type": "code",
   "execution_count": 39,
   "metadata": {},
   "outputs": [
    {
     "data": {
      "text/html": [
       "<div>\n",
       "<style scoped>\n",
       "    .dataframe tbody tr th:only-of-type {\n",
       "        vertical-align: middle;\n",
       "    }\n",
       "\n",
       "    .dataframe tbody tr th {\n",
       "        vertical-align: top;\n",
       "    }\n",
       "\n",
       "    .dataframe thead th {\n",
       "        text-align: right;\n",
       "    }\n",
       "</style>\n",
       "<table border=\"1\" class=\"dataframe\">\n",
       "  <thead>\n",
       "    <tr style=\"text-align: right;\">\n",
       "      <th></th>\n",
       "      <th>Job Title</th>\n",
       "      <th>Job Location</th>\n",
       "      <th>Company Name</th>\n",
       "      <th>Experience Required</th>\n",
       "    </tr>\n",
       "  </thead>\n",
       "  <tbody>\n",
       "    <tr>\n",
       "      <th>0</th>\n",
       "      <td>Data Scientist/Data Analyst-immediate</td>\n",
       "      <td>Chennai, Pune, Bengaluru, Hyderabad</td>\n",
       "      <td>CAIA-Center For Artificial Intelligence &amp; Adva...</td>\n",
       "      <td>0-3 Yrs</td>\n",
       "    </tr>\n",
       "    <tr>\n",
       "      <th>1</th>\n",
       "      <td>HCL hiring Data scientist with exp in machine ...</td>\n",
       "      <td>Bengaluru</td>\n",
       "      <td>HCL Technologies Limited</td>\n",
       "      <td>5-10 Yrs</td>\n",
       "    </tr>\n",
       "    <tr>\n",
       "      <th>2</th>\n",
       "      <td>Data Scientist - Machine Learning</td>\n",
       "      <td>Bengaluru</td>\n",
       "      <td>AugmatrixGo</td>\n",
       "      <td>2-5 Yrs</td>\n",
       "    </tr>\n",
       "    <tr>\n",
       "      <th>3</th>\n",
       "      <td>Data Scientist - Machine Learning</td>\n",
       "      <td>Bengaluru</td>\n",
       "      <td>BLUE YONDER INDIA PRIVATE LIMITED</td>\n",
       "      <td>5-8 Yrs</td>\n",
       "    </tr>\n",
       "    <tr>\n",
       "      <th>4</th>\n",
       "      <td>Data Scientist - Machine Learning</td>\n",
       "      <td>Bengaluru</td>\n",
       "      <td>BLUE YONDER INDIA PRIVATE LIMITED</td>\n",
       "      <td>3-5 Yrs</td>\n",
       "    </tr>\n",
       "    <tr>\n",
       "      <th>5</th>\n",
       "      <td>Senior Data Scientist</td>\n",
       "      <td>Bengaluru</td>\n",
       "      <td>Philips India Limited</td>\n",
       "      <td>8-12 Yrs</td>\n",
       "    </tr>\n",
       "    <tr>\n",
       "      <th>6</th>\n",
       "      <td>Software Developer - Data Scientist / NLP / Ma...</td>\n",
       "      <td>Bengaluru / Bangalore</td>\n",
       "      <td>Cunesoft India Private Limited</td>\n",
       "      <td>3-6 Yrs</td>\n",
       "    </tr>\n",
       "    <tr>\n",
       "      <th>7</th>\n",
       "      <td>Sr. Data Scientist</td>\n",
       "      <td>Bengaluru</td>\n",
       "      <td>NetApp</td>\n",
       "      <td>10-15 Yrs</td>\n",
       "    </tr>\n",
       "    <tr>\n",
       "      <th>8</th>\n",
       "      <td>Data Scientist - Machine Learning - Remote Wor...</td>\n",
       "      <td>Delhi NCR, Bengaluru, Anywhere in India</td>\n",
       "      <td>Doji Ltd</td>\n",
       "      <td>2-5 Yrs</td>\n",
       "    </tr>\n",
       "    <tr>\n",
       "      <th>9</th>\n",
       "      <td>Data Scientist</td>\n",
       "      <td>Bengaluru</td>\n",
       "      <td>GENPACT India Private Limited</td>\n",
       "      <td>5-10 Yrs</td>\n",
       "    </tr>\n",
       "    <tr>\n",
       "      <th>10</th>\n",
       "      <td>Data Scientist (Healthcare/Pharma Domain prefe...</td>\n",
       "      <td>Bengaluru</td>\n",
       "      <td>GENPACT India Private Limited</td>\n",
       "      <td>6-10 Yrs</td>\n",
       "    </tr>\n",
       "    <tr>\n",
       "      <th>11</th>\n",
       "      <td>Data Scientist</td>\n",
       "      <td>Bengaluru</td>\n",
       "      <td>24/7 Customer</td>\n",
       "      <td>2-4 Yrs</td>\n",
       "    </tr>\n",
       "    <tr>\n",
       "      <th>12</th>\n",
       "      <td>AI Resident Data Scientist Stats. Consl.</td>\n",
       "      <td>Bengaluru</td>\n",
       "      <td>Shell India Markets Private Limited</td>\n",
       "      <td>3-5 Yrs</td>\n",
       "    </tr>\n",
       "    <tr>\n",
       "      <th>13</th>\n",
       "      <td>Data Scientist (ON Contract)</td>\n",
       "      <td>Bengaluru</td>\n",
       "      <td>Sandvik Asia Pvt. Ltd.</td>\n",
       "      <td>4-8 Yrs</td>\n",
       "    </tr>\n",
       "    <tr>\n",
       "      <th>14</th>\n",
       "      <td>Senior Data Scientist</td>\n",
       "      <td>Mumbai, Bengaluru</td>\n",
       "      <td>UpGrad</td>\n",
       "      <td>4-6 Yrs</td>\n",
       "    </tr>\n",
       "    <tr>\n",
       "      <th>15</th>\n",
       "      <td>Data Scientist</td>\n",
       "      <td>Bengaluru</td>\n",
       "      <td>Applied Materials</td>\n",
       "      <td>4-7 Yrs</td>\n",
       "    </tr>\n",
       "    <tr>\n",
       "      <th>16</th>\n",
       "      <td>Lead Data Scientist</td>\n",
       "      <td>Bengaluru</td>\n",
       "      <td>COLLABERA</td>\n",
       "      <td>5-10 Yrs</td>\n",
       "    </tr>\n",
       "    <tr>\n",
       "      <th>17</th>\n",
       "      <td>Immediate hiring Data Scientist - Bangalore</td>\n",
       "      <td>Bengaluru</td>\n",
       "      <td>RANDSTAD INDIA PVT LTD</td>\n",
       "      <td>4-6 Yrs</td>\n",
       "    </tr>\n",
       "    <tr>\n",
       "      <th>18</th>\n",
       "      <td>Lead Data Scientist</td>\n",
       "      <td>Bengaluru</td>\n",
       "      <td>COLLABERA</td>\n",
       "      <td>5-10 Yrs</td>\n",
       "    </tr>\n",
       "    <tr>\n",
       "      <th>19</th>\n",
       "      <td>Data Scientist (machine Learning /AI)</td>\n",
       "      <td>Delhi NCR, Mumbai, Bengaluru</td>\n",
       "      <td>Mastermind Network</td>\n",
       "      <td>5-10 Yrs</td>\n",
       "    </tr>\n",
       "  </tbody>\n",
       "</table>\n",
       "</div>"
      ],
      "text/plain": [
       "                                            Job Title  \\\n",
       "0               Data Scientist/Data Analyst-immediate   \n",
       "1   HCL hiring Data scientist with exp in machine ...   \n",
       "2                   Data Scientist - Machine Learning   \n",
       "3                   Data Scientist - Machine Learning   \n",
       "4                   Data Scientist - Machine Learning   \n",
       "5                               Senior Data Scientist   \n",
       "6   Software Developer - Data Scientist / NLP / Ma...   \n",
       "7                                  Sr. Data Scientist   \n",
       "8   Data Scientist - Machine Learning - Remote Wor...   \n",
       "9                                      Data Scientist   \n",
       "10  Data Scientist (Healthcare/Pharma Domain prefe...   \n",
       "11                                     Data Scientist   \n",
       "12           AI Resident Data Scientist Stats. Consl.   \n",
       "13                       Data Scientist (ON Contract)   \n",
       "14                              Senior Data Scientist   \n",
       "15                                     Data Scientist   \n",
       "16                                Lead Data Scientist   \n",
       "17        Immediate hiring Data Scientist - Bangalore   \n",
       "18                                Lead Data Scientist   \n",
       "19              Data Scientist (machine Learning /AI)   \n",
       "\n",
       "                               Job Location  \\\n",
       "0       Chennai, Pune, Bengaluru, Hyderabad   \n",
       "1                                 Bengaluru   \n",
       "2                                 Bengaluru   \n",
       "3                                 Bengaluru   \n",
       "4                                 Bengaluru   \n",
       "5                                 Bengaluru   \n",
       "6                     Bengaluru / Bangalore   \n",
       "7                                 Bengaluru   \n",
       "8   Delhi NCR, Bengaluru, Anywhere in India   \n",
       "9                                 Bengaluru   \n",
       "10                                Bengaluru   \n",
       "11                                Bengaluru   \n",
       "12                                Bengaluru   \n",
       "13                                Bengaluru   \n",
       "14                        Mumbai, Bengaluru   \n",
       "15                                Bengaluru   \n",
       "16                                Bengaluru   \n",
       "17                                Bengaluru   \n",
       "18                                Bengaluru   \n",
       "19             Delhi NCR, Mumbai, Bengaluru   \n",
       "\n",
       "                                         Company Name Experience Required  \n",
       "0   CAIA-Center For Artificial Intelligence & Adva...             0-3 Yrs  \n",
       "1                            HCL Technologies Limited            5-10 Yrs  \n",
       "2                                         AugmatrixGo             2-5 Yrs  \n",
       "3                   BLUE YONDER INDIA PRIVATE LIMITED             5-8 Yrs  \n",
       "4                   BLUE YONDER INDIA PRIVATE LIMITED             3-5 Yrs  \n",
       "5                               Philips India Limited            8-12 Yrs  \n",
       "6                      Cunesoft India Private Limited             3-6 Yrs  \n",
       "7                                              NetApp           10-15 Yrs  \n",
       "8                                            Doji Ltd             2-5 Yrs  \n",
       "9                       GENPACT India Private Limited            5-10 Yrs  \n",
       "10                      GENPACT India Private Limited            6-10 Yrs  \n",
       "11                                      24/7 Customer             2-4 Yrs  \n",
       "12                Shell India Markets Private Limited             3-5 Yrs  \n",
       "13                             Sandvik Asia Pvt. Ltd.             4-8 Yrs  \n",
       "14                                             UpGrad             4-6 Yrs  \n",
       "15                                  Applied Materials             4-7 Yrs  \n",
       "16                                          COLLABERA            5-10 Yrs  \n",
       "17                             RANDSTAD INDIA PVT LTD             4-6 Yrs  \n",
       "18                                          COLLABERA            5-10 Yrs  \n",
       "19                                 Mastermind Network            5-10 Yrs  "
      ]
     },
     "execution_count": 39,
     "metadata": {},
     "output_type": "execute_result"
    }
   ],
   "source": [
    "as2"
   ]
  },
  {
   "cell_type": "markdown",
   "metadata": {},
   "source": [
    "# Question 3"
   ]
  },
  {
   "cell_type": "code",
   "execution_count": 40,
   "metadata": {},
   "outputs": [],
   "source": [
    "url='https://www.naukri.com/data-scientist-jobs-in-bangalore?k=data%20scientist&l=bangalore'"
   ]
  },
  {
   "cell_type": "code",
   "execution_count": 41,
   "metadata": {},
   "outputs": [],
   "source": [
    "driver.get(url)"
   ]
  },
  {
   "cell_type": "code",
   "execution_count": 47,
   "metadata": {},
   "outputs": [],
   "source": [
    "c=driver.find_elements_by_xpath(\"//div[@class='jobTupleHeader']/div/a\")"
   ]
  },
  {
   "cell_type": "code",
   "execution_count": 49,
   "metadata": {},
   "outputs": [],
   "source": [
    "from selenium.common.exceptions import NoSuchElementException"
   ]
  },
  {
   "cell_type": "code",
   "execution_count": 50,
   "metadata": {},
   "outputs": [],
   "source": [
    "links=[]\n",
    "for i in c:\n",
    "    b=i.get_property('href')\n",
    "    links.append(b)"
   ]
  },
  {
   "cell_type": "code",
   "execution_count": 52,
   "metadata": {},
   "outputs": [],
   "source": [
    "zz=[]\n",
    "for i in links[0:9]:\n",
    "    driver.get(i)\n",
    "    try :\n",
    "        try:\n",
    "            zz.append(driver.find_element_by_xpath(\"//section[@class='job-desc']/div[1]\").text)\n",
    "        \n",
    "        except NoSuchElementException:\n",
    "            zz.append(driver.find_element_by_xpath(\"//div[@class='clearboth description']\").text)\n",
    "            \n",
    "    except NoSuchElementException:\n",
    "        zz.append(driver.find_element_by_xpath(\"//div[@class='f14 lh18 alignJ disc-li']/div/div[2]\").text)\n",
    "        "
   ]
  },
  {
   "cell_type": "code",
   "execution_count": null,
   "metadata": {},
   "outputs": [],
   "source": [
    "c=links[9]\n",
    "driver.get(c)\n",
    "jd.append(driver.find_element_by_xpath(\"//div[@class='f14 lh18 alignJ disc-li']\").text)"
   ]
  },
  {
   "cell_type": "code",
   "execution_count": 54,
   "metadata": {},
   "outputs": [],
   "source": [
    "jobdesc=pd.DataFrame({})"
   ]
  },
  {
   "cell_type": "code",
   "execution_count": 55,
   "metadata": {},
   "outputs": [],
   "source": [
    "jobdesc['Description']=zz"
   ]
  },
  {
   "cell_type": "code",
   "execution_count": 56,
   "metadata": {},
   "outputs": [
    {
     "data": {
      "text/html": [
       "<div>\n",
       "<style scoped>\n",
       "    .dataframe tbody tr th:only-of-type {\n",
       "        vertical-align: middle;\n",
       "    }\n",
       "\n",
       "    .dataframe tbody tr th {\n",
       "        vertical-align: top;\n",
       "    }\n",
       "\n",
       "    .dataframe thead th {\n",
       "        text-align: right;\n",
       "    }\n",
       "</style>\n",
       "<table border=\"1\" class=\"dataframe\">\n",
       "  <thead>\n",
       "    <tr style=\"text-align: right;\">\n",
       "      <th></th>\n",
       "      <th>Description</th>\n",
       "    </tr>\n",
       "  </thead>\n",
       "  <tbody>\n",
       "    <tr>\n",
       "      <th>0</th>\n",
       "      <td>Dear Candidate\\n\\nSchedule a Telephonic Interv...</td>\n",
       "    </tr>\n",
       "    <tr>\n",
       "      <th>1</th>\n",
       "      <td>Dear Candidate,\\n\\nGreetings from HCL!!!\\nWe a...</td>\n",
       "    </tr>\n",
       "    <tr>\n",
       "      <th>2</th>\n",
       "      <td>Roles and Responsibilities\\n\\n\\n- Selecting fe...</td>\n",
       "    </tr>\n",
       "    <tr>\n",
       "      <th>3</th>\n",
       "      <td>Roles and Responsibilities\\nUnder guidance, or...</td>\n",
       "    </tr>\n",
       "    <tr>\n",
       "      <th>4</th>\n",
       "      <td>Roles and Responsibilities\\nThe Yantriks Data ...</td>\n",
       "    </tr>\n",
       "    <tr>\n",
       "      <th>5</th>\n",
       "      <td>Job Description\\nAt Philips, data is in the ce...</td>\n",
       "    </tr>\n",
       "    <tr>\n",
       "      <th>6</th>\n",
       "      <td>Roles and Responsibilities\\nWe are looking for...</td>\n",
       "    </tr>\n",
       "    <tr>\n",
       "      <th>7</th>\n",
       "      <td>This Cloud Business Operations Data Scientist ...</td>\n",
       "    </tr>\n",
       "    <tr>\n",
       "      <th>8</th>\n",
       "      <td>Please note that this role will be Remote / Ho...</td>\n",
       "    </tr>\n",
       "  </tbody>\n",
       "</table>\n",
       "</div>"
      ],
      "text/plain": [
       "                                         Description\n",
       "0  Dear Candidate\\n\\nSchedule a Telephonic Interv...\n",
       "1  Dear Candidate,\\n\\nGreetings from HCL!!!\\nWe a...\n",
       "2  Roles and Responsibilities\\n\\n\\n- Selecting fe...\n",
       "3  Roles and Responsibilities\\nUnder guidance, or...\n",
       "4  Roles and Responsibilities\\nThe Yantriks Data ...\n",
       "5  Job Description\\nAt Philips, data is in the ce...\n",
       "6  Roles and Responsibilities\\nWe are looking for...\n",
       "7  This Cloud Business Operations Data Scientist ...\n",
       "8  Please note that this role will be Remote / Ho..."
      ]
     },
     "execution_count": 56,
     "metadata": {},
     "output_type": "execute_result"
    }
   ],
   "source": [
    "jobdesc"
   ]
  },
  {
   "cell_type": "markdown",
   "metadata": {},
   "source": [
    "# Question 4"
   ]
  },
  {
   "cell_type": "code",
   "execution_count": 65,
   "metadata": {},
   "outputs": [],
   "source": [
    "driver=webdriver.Chrome(r\"C:\\Users\\HP\\Desktop\\chromedriver.exe\")"
   ]
  },
  {
   "cell_type": "code",
   "execution_count": 66,
   "metadata": {},
   "outputs": [],
   "source": [
    "url='https://www.naukri.com/'"
   ]
  },
  {
   "cell_type": "code",
   "execution_count": 67,
   "metadata": {},
   "outputs": [],
   "source": [
    "driver.get(url)"
   ]
  },
  {
   "cell_type": "code",
   "execution_count": 68,
   "metadata": {},
   "outputs": [],
   "source": [
    "searchb=driver.find_element_by_xpath('//*[@id=\"qsb-keyword-sugg\"]')"
   ]
  },
  {
   "cell_type": "code",
   "execution_count": 69,
   "metadata": {},
   "outputs": [],
   "source": [
    "searchb.send_keys('Data Scientist')"
   ]
  },
  {
   "cell_type": "code",
   "execution_count": 70,
   "metadata": {},
   "outputs": [],
   "source": [
    "driver.find_element_by_xpath(\"//div[@class='search-btn']\").click()\n",
    "time.sleep(3)"
   ]
  },
  {
   "cell_type": "code",
   "execution_count": 71,
   "metadata": {},
   "outputs": [],
   "source": [
    "driver.find_element_by_xpath('//*[@id=\"root\"]/div[3]/div[2]/section[1]/div[2]/div[2]/div[2]/div[2]/label/i').click()"
   ]
  },
  {
   "cell_type": "code",
   "execution_count": 72,
   "metadata": {},
   "outputs": [],
   "source": [
    "title=driver.find_elements_by_xpath(\"//div[@class='jobTupleHeader']/div/a\")"
   ]
  },
  {
   "cell_type": "code",
   "execution_count": 73,
   "metadata": {},
   "outputs": [],
   "source": [
    "job_title=[]\n",
    "for i in title:\n",
    "    job_title.append(i.text)"
   ]
  },
  {
   "cell_type": "code",
   "execution_count": 74,
   "metadata": {},
   "outputs": [],
   "source": [
    "jl=driver.find_elements_by_xpath(\"//li[@class='fleft grey-text br2 placeHolderLi location']/span\")"
   ]
  },
  {
   "cell_type": "code",
   "execution_count": 75,
   "metadata": {},
   "outputs": [],
   "source": [
    "job_location=[]\n",
    "for i in jl:\n",
    "    a=i.text\n",
    "    job_location.append(a)"
   ]
  },
  {
   "cell_type": "code",
   "execution_count": 76,
   "metadata": {},
   "outputs": [],
   "source": [
    "cn=driver.find_elements_by_xpath(\"//div[@class='mt-7 companyInfo subheading lh16']/a[1]\")"
   ]
  },
  {
   "cell_type": "code",
   "execution_count": 77,
   "metadata": {},
   "outputs": [],
   "source": [
    "company_name=[]\n",
    "for i in cn:\n",
    "    a=i.text\n",
    "    company_name.append(a)"
   ]
  },
  {
   "cell_type": "code",
   "execution_count": 78,
   "metadata": {},
   "outputs": [],
   "source": [
    "e=driver.find_elements_by_xpath(\"//li[@class='fleft grey-text br2 placeHolderLi experience']/span\")"
   ]
  },
  {
   "cell_type": "code",
   "execution_count": 79,
   "metadata": {},
   "outputs": [],
   "source": [
    "exp=[]\n",
    "for i in e:\n",
    "    a=i.text\n",
    "    exp.append(a)"
   ]
  },
  {
   "cell_type": "code",
   "execution_count": 80,
   "metadata": {},
   "outputs": [],
   "source": [
    "q3=pd.DataFrame({})"
   ]
  },
  {
   "cell_type": "code",
   "execution_count": 81,
   "metadata": {},
   "outputs": [],
   "source": [
    "q3['Job Title']=job_title\n",
    "q3['Job Location']=job_location\n",
    "q3['Company Name']=company_name\n",
    "q3['Experience Required']=exp"
   ]
  },
  {
   "cell_type": "code",
   "execution_count": 82,
   "metadata": {},
   "outputs": [
    {
     "data": {
      "text/html": [
       "<div>\n",
       "<style scoped>\n",
       "    .dataframe tbody tr th:only-of-type {\n",
       "        vertical-align: middle;\n",
       "    }\n",
       "\n",
       "    .dataframe tbody tr th {\n",
       "        vertical-align: top;\n",
       "    }\n",
       "\n",
       "    .dataframe thead th {\n",
       "        text-align: right;\n",
       "    }\n",
       "</style>\n",
       "<table border=\"1\" class=\"dataframe\">\n",
       "  <thead>\n",
       "    <tr style=\"text-align: right;\">\n",
       "      <th></th>\n",
       "      <th>Job Title</th>\n",
       "      <th>Job Location</th>\n",
       "      <th>Company Name</th>\n",
       "      <th>Experience Required</th>\n",
       "    </tr>\n",
       "  </thead>\n",
       "  <tbody>\n",
       "    <tr>\n",
       "      <th>0</th>\n",
       "      <td>Data Scientist - Machine Learning - Remote Wor...</td>\n",
       "      <td>Delhi NCR, Bengaluru, Anywhere in India</td>\n",
       "      <td>Doji Ltd</td>\n",
       "      <td>2-5 Yrs</td>\n",
       "    </tr>\n",
       "    <tr>\n",
       "      <th>1</th>\n",
       "      <td>Data Scientist (machine Learning /AI)</td>\n",
       "      <td>Delhi NCR, Mumbai, Bengaluru</td>\n",
       "      <td>Mastermind Network</td>\n",
       "      <td>5-10 Yrs</td>\n",
       "    </tr>\n",
       "    <tr>\n",
       "      <th>2</th>\n",
       "      <td>Data Scientist - Python/Machine Learning</td>\n",
       "      <td>Noida</td>\n",
       "      <td>Jubna</td>\n",
       "      <td>5-8 Yrs</td>\n",
       "    </tr>\n",
       "    <tr>\n",
       "      <th>3</th>\n",
       "      <td>Senior Data Scientist (Remote / Work from Home)</td>\n",
       "      <td>Chennai, Delhi NCR, Bengaluru</td>\n",
       "      <td>WalletHub</td>\n",
       "      <td>10-20 Yrs</td>\n",
       "    </tr>\n",
       "    <tr>\n",
       "      <th>4</th>\n",
       "      <td>Tech Mahindra hiring For Data Scientist- Noida</td>\n",
       "      <td>Noida</td>\n",
       "      <td>tech mahindra ltd</td>\n",
       "      <td>5-10 Yrs</td>\n",
       "    </tr>\n",
       "    <tr>\n",
       "      <th>5</th>\n",
       "      <td>Associate Data Scientist</td>\n",
       "      <td>Gurgaon</td>\n",
       "      <td>Indegene Private Limited</td>\n",
       "      <td>6-11 Yrs</td>\n",
       "    </tr>\n",
       "    <tr>\n",
       "      <th>6</th>\n",
       "      <td>Data Scientist</td>\n",
       "      <td>Gurgaon Gurugram</td>\n",
       "      <td>TransOrg Analytics</td>\n",
       "      <td>3-6 Yrs</td>\n",
       "    </tr>\n",
       "    <tr>\n",
       "      <th>7</th>\n",
       "      <td>Data Scientist - Commercial Planning and Analysis</td>\n",
       "      <td>Delhi NCR, Gurgaon</td>\n",
       "      <td>Air Asia India Limited</td>\n",
       "      <td>1-6 Yrs</td>\n",
       "    </tr>\n",
       "    <tr>\n",
       "      <th>8</th>\n",
       "      <td>Analyst/Senior Analyst - DATA Scientist</td>\n",
       "      <td>Chennai, Delhi NCR, Bengaluru</td>\n",
       "      <td>Tredence</td>\n",
       "      <td>2-4 Yrs</td>\n",
       "    </tr>\n",
       "    <tr>\n",
       "      <th>9</th>\n",
       "      <td>Data Scientist</td>\n",
       "      <td>Bengaluru, Gurgaon</td>\n",
       "      <td>GreatLearning</td>\n",
       "      <td>3-5 Yrs</td>\n",
       "    </tr>\n",
       "    <tr>\n",
       "      <th>10</th>\n",
       "      <td>Opening For Data Scientist in Axtria</td>\n",
       "      <td>Bengaluru, Gurgaon, Noida</td>\n",
       "      <td>Axtria India Private Limited</td>\n",
       "      <td>7-12 Yrs</td>\n",
       "    </tr>\n",
       "    <tr>\n",
       "      <th>11</th>\n",
       "      <td>Data Scientist/Analyst - Machine Learning/Deep...</td>\n",
       "      <td>Delhi</td>\n",
       "      <td>EchoIndia</td>\n",
       "      <td>3-6 Yrs</td>\n",
       "    </tr>\n",
       "    <tr>\n",
       "      <th>12</th>\n",
       "      <td>Data Scientist - Machine Learning</td>\n",
       "      <td>Gurgaon</td>\n",
       "      <td>Talpro</td>\n",
       "      <td>3-6 Yrs</td>\n",
       "    </tr>\n",
       "    <tr>\n",
       "      <th>13</th>\n",
       "      <td>Principal Data Scientist - Big Data/Machine Le...</td>\n",
       "      <td>Delhi</td>\n",
       "      <td>HyrEzy Talent Solutions</td>\n",
       "      <td>6-11 Yrs</td>\n",
       "    </tr>\n",
       "    <tr>\n",
       "      <th>14</th>\n",
       "      <td>Data Scientist opening at Saarthee Technology ...</td>\n",
       "      <td>Gurgaon</td>\n",
       "      <td>Saarthee Technology Pvt Ltd</td>\n",
       "      <td>1-6 Yrs</td>\n",
       "    </tr>\n",
       "    <tr>\n",
       "      <th>15</th>\n",
       "      <td>CN - Strategy - MC - T&amp;O - OA Data Scientist (...</td>\n",
       "      <td>Gurgaon Gurugram</td>\n",
       "      <td>Accenture Solutions Pvt Ltd</td>\n",
       "      <td>2-4 Yrs</td>\n",
       "    </tr>\n",
       "    <tr>\n",
       "      <th>16</th>\n",
       "      <td>Data Scientist</td>\n",
       "      <td>Gurgaon</td>\n",
       "      <td>AxmiYaN HR Solutions Private Limited</td>\n",
       "      <td>6-8 Yrs</td>\n",
       "    </tr>\n",
       "    <tr>\n",
       "      <th>17</th>\n",
       "      <td>Data Scientist( Hadoop/Redshift/BigQuery)</td>\n",
       "      <td>Noida</td>\n",
       "      <td>Jubna</td>\n",
       "      <td>4-6 Yrs</td>\n",
       "    </tr>\n",
       "    <tr>\n",
       "      <th>18</th>\n",
       "      <td>Junior Data Scientist/ TA</td>\n",
       "      <td>Chennai, Pune, Mumbai, Bengaluru, Gurgaon, Hyd...</td>\n",
       "      <td>WSD CONSULTANT PRIVATE LIMITED</td>\n",
       "      <td>1-5 Yrs</td>\n",
       "    </tr>\n",
       "    <tr>\n",
       "      <th>19</th>\n",
       "      <td>Senior Manager - Data Scientist - Banking Doma...</td>\n",
       "      <td>Delhi NCR, Gurgaon</td>\n",
       "      <td>Huquo Consulting Pvt. Ltd</td>\n",
       "      <td>8-12 Yrs</td>\n",
       "    </tr>\n",
       "  </tbody>\n",
       "</table>\n",
       "</div>"
      ],
      "text/plain": [
       "                                            Job Title  \\\n",
       "0   Data Scientist - Machine Learning - Remote Wor...   \n",
       "1               Data Scientist (machine Learning /AI)   \n",
       "2            Data Scientist - Python/Machine Learning   \n",
       "3     Senior Data Scientist (Remote / Work from Home)   \n",
       "4      Tech Mahindra hiring For Data Scientist- Noida   \n",
       "5                            Associate Data Scientist   \n",
       "6                                      Data Scientist   \n",
       "7   Data Scientist - Commercial Planning and Analysis   \n",
       "8             Analyst/Senior Analyst - DATA Scientist   \n",
       "9                                      Data Scientist   \n",
       "10               Opening For Data Scientist in Axtria   \n",
       "11  Data Scientist/Analyst - Machine Learning/Deep...   \n",
       "12                  Data Scientist - Machine Learning   \n",
       "13  Principal Data Scientist - Big Data/Machine Le...   \n",
       "14  Data Scientist opening at Saarthee Technology ...   \n",
       "15  CN - Strategy - MC - T&O - OA Data Scientist (...   \n",
       "16                                     Data Scientist   \n",
       "17          Data Scientist( Hadoop/Redshift/BigQuery)   \n",
       "18                          Junior Data Scientist/ TA   \n",
       "19  Senior Manager - Data Scientist - Banking Doma...   \n",
       "\n",
       "                                         Job Location  \\\n",
       "0             Delhi NCR, Bengaluru, Anywhere in India   \n",
       "1                        Delhi NCR, Mumbai, Bengaluru   \n",
       "2                                               Noida   \n",
       "3                       Chennai, Delhi NCR, Bengaluru   \n",
       "4                                               Noida   \n",
       "5                                             Gurgaon   \n",
       "6                                    Gurgaon Gurugram   \n",
       "7                                  Delhi NCR, Gurgaon   \n",
       "8                       Chennai, Delhi NCR, Bengaluru   \n",
       "9                                  Bengaluru, Gurgaon   \n",
       "10                          Bengaluru, Gurgaon, Noida   \n",
       "11                                              Delhi   \n",
       "12                                            Gurgaon   \n",
       "13                                              Delhi   \n",
       "14                                            Gurgaon   \n",
       "15                                   Gurgaon Gurugram   \n",
       "16                                            Gurgaon   \n",
       "17                                              Noida   \n",
       "18  Chennai, Pune, Mumbai, Bengaluru, Gurgaon, Hyd...   \n",
       "19                                 Delhi NCR, Gurgaon   \n",
       "\n",
       "                            Company Name Experience Required  \n",
       "0                               Doji Ltd             2-5 Yrs  \n",
       "1                     Mastermind Network            5-10 Yrs  \n",
       "2                                  Jubna             5-8 Yrs  \n",
       "3                              WalletHub           10-20 Yrs  \n",
       "4                      tech mahindra ltd            5-10 Yrs  \n",
       "5               Indegene Private Limited            6-11 Yrs  \n",
       "6                     TransOrg Analytics             3-6 Yrs  \n",
       "7                 Air Asia India Limited             1-6 Yrs  \n",
       "8                               Tredence             2-4 Yrs  \n",
       "9                          GreatLearning             3-5 Yrs  \n",
       "10          Axtria India Private Limited            7-12 Yrs  \n",
       "11                             EchoIndia             3-6 Yrs  \n",
       "12                                Talpro             3-6 Yrs  \n",
       "13               HyrEzy Talent Solutions            6-11 Yrs  \n",
       "14           Saarthee Technology Pvt Ltd             1-6 Yrs  \n",
       "15           Accenture Solutions Pvt Ltd             2-4 Yrs  \n",
       "16  AxmiYaN HR Solutions Private Limited             6-8 Yrs  \n",
       "17                                 Jubna             4-6 Yrs  \n",
       "18        WSD CONSULTANT PRIVATE LIMITED             1-5 Yrs  \n",
       "19             Huquo Consulting Pvt. Ltd            8-12 Yrs  "
      ]
     },
     "execution_count": 82,
     "metadata": {},
     "output_type": "execute_result"
    }
   ],
   "source": [
    "q3"
   ]
  },
  {
   "cell_type": "markdown",
   "metadata": {},
   "source": [
    "# Glassdoor"
   ]
  },
  {
   "cell_type": "code",
   "execution_count": 99,
   "metadata": {},
   "outputs": [],
   "source": [
    "driver=webdriver.Chrome(r\"C:\\Users\\HP\\Desktop\\chromedriver.exe\")"
   ]
  },
  {
   "cell_type": "code",
   "execution_count": 100,
   "metadata": {},
   "outputs": [],
   "source": [
    "url='https://www.glassdoor.co.in/index.htm'"
   ]
  },
  {
   "cell_type": "code",
   "execution_count": 101,
   "metadata": {},
   "outputs": [],
   "source": [
    "driver.get(url)"
   ]
  },
  {
   "cell_type": "code",
   "execution_count": 102,
   "metadata": {},
   "outputs": [],
   "source": [
    "a=driver.find_element_by_xpath('//*[@id=\"sc.keyword\"]')\n",
    "a.send_keys('Data Scientist')"
   ]
  },
  {
   "cell_type": "code",
   "execution_count": 103,
   "metadata": {},
   "outputs": [],
   "source": [
    "from selenium.webdriver.common.keys import Keys"
   ]
  },
  {
   "cell_type": "code",
   "execution_count": 104,
   "metadata": {},
   "outputs": [],
   "source": [
    "b=driver.find_element_by_xpath('//*[@id=\"sc.location\"]')"
   ]
  },
  {
   "cell_type": "code",
   "execution_count": 105,
   "metadata": {},
   "outputs": [],
   "source": [
    "b.send_keys(Keys.CONTROL+ 'a')"
   ]
  },
  {
   "cell_type": "code",
   "execution_count": 106,
   "metadata": {},
   "outputs": [],
   "source": [
    "b.send_keys(Keys.DELETE)"
   ]
  },
  {
   "cell_type": "code",
   "execution_count": 107,
   "metadata": {},
   "outputs": [],
   "source": [
    "b.send_keys('Noida')"
   ]
  },
  {
   "cell_type": "code",
   "execution_count": 108,
   "metadata": {},
   "outputs": [],
   "source": [
    "driver.find_element_by_xpath('//*[@id=\"scBar\"]/div/button').click()"
   ]
  },
  {
   "cell_type": "code",
   "execution_count": 113,
   "metadata": {},
   "outputs": [],
   "source": [
    "c=driver.find_elements_by_xpath(\"//div[@class='jobHeader d-flex justify-content-between align-items-start']/a/span\")"
   ]
  },
  {
   "cell_type": "code",
   "execution_count": 114,
   "metadata": {},
   "outputs": [],
   "source": [
    "comp_name=[]\n",
    "for i in c:\n",
    "    comp_name.append(i.text)"
   ]
  },
  {
   "cell_type": "code",
   "execution_count": 115,
   "metadata": {},
   "outputs": [],
   "source": [
    "d=driver.find_elements_by_xpath(\"//div[@class='d-flex align-items-end pl-std css-mi55ob']\")"
   ]
  },
  {
   "cell_type": "code",
   "execution_count": 116,
   "metadata": {},
   "outputs": [],
   "source": [
    "days=[]\n",
    "for i in d:\n",
    "    days.append(i.text.replace('d','').replace('24h','1'))"
   ]
  },
  {
   "cell_type": "code",
   "execution_count": 168,
   "metadata": {},
   "outputs": [],
   "source": [
    "lin=[]"
   ]
  },
  {
   "cell_type": "code",
   "execution_count": 169,
   "metadata": {},
   "outputs": [],
   "source": [
    "p=driver.find_elements_by_xpath(\"//div[@class='d-flex flex-column css-fbt9gv e1rrn5ka2']/a\")"
   ]
  },
  {
   "cell_type": "code",
   "execution_count": 170,
   "metadata": {},
   "outputs": [],
   "source": [
    "for i in p:\n",
    "    a=i.get_attribute('href')\n",
    "    lin.append(a)"
   ]
  },
  {
   "cell_type": "code",
   "execution_count": 171,
   "metadata": {},
   "outputs": [
    {
     "data": {
      "text/plain": [
       "30"
      ]
     },
     "execution_count": 171,
     "metadata": {},
     "output_type": "execute_result"
    }
   ],
   "source": [
    "len(lin)"
   ]
  },
  {
   "cell_type": "code",
   "execution_count": 175,
   "metadata": {},
   "outputs": [],
   "source": [
    "rating=[]\n",
    "for i in lin[0:15]:\n",
    "    driver.get(i)\n",
    "    try:\n",
    "        rating.append(driver.find_element_by_xpath(\"//span[@class='css-1pmc6te e11nt52q4']\").text.replace('\\n★',''))\n",
    "        \n",
    "    except NoSuchElementException:\n",
    "        rating.append(\"No ratings\")"
   ]
  },
  {
   "cell_type": "code",
   "execution_count": 176,
   "metadata": {},
   "outputs": [],
   "source": [
    "fq=pd.DataFrame({})\n",
    "fq['Company Name']=comp_name[0:15]\n",
    "fq['Number Of Days']=days[0:15]\n",
    "fq['Ratings']=rating"
   ]
  },
  {
   "cell_type": "code",
   "execution_count": 177,
   "metadata": {},
   "outputs": [
    {
     "data": {
      "text/html": [
       "<div>\n",
       "<style scoped>\n",
       "    .dataframe tbody tr th:only-of-type {\n",
       "        vertical-align: middle;\n",
       "    }\n",
       "\n",
       "    .dataframe tbody tr th {\n",
       "        vertical-align: top;\n",
       "    }\n",
       "\n",
       "    .dataframe thead th {\n",
       "        text-align: right;\n",
       "    }\n",
       "</style>\n",
       "<table border=\"1\" class=\"dataframe\">\n",
       "  <thead>\n",
       "    <tr style=\"text-align: right;\">\n",
       "      <th></th>\n",
       "      <th>Company Name</th>\n",
       "      <th>Number Of Days</th>\n",
       "      <th>Ratings</th>\n",
       "    </tr>\n",
       "  </thead>\n",
       "  <tbody>\n",
       "    <tr>\n",
       "      <th>0</th>\n",
       "      <td>UnitedHealth Group</td>\n",
       "      <td>2</td>\n",
       "      <td>3.5</td>\n",
       "    </tr>\n",
       "    <tr>\n",
       "      <th>1</th>\n",
       "      <td>QuantumIT</td>\n",
       "      <td>11</td>\n",
       "      <td>3.3</td>\n",
       "    </tr>\n",
       "    <tr>\n",
       "      <th>2</th>\n",
       "      <td>WSD Consultant</td>\n",
       "      <td>30+</td>\n",
       "      <td>No ratings</td>\n",
       "    </tr>\n",
       "    <tr>\n",
       "      <th>3</th>\n",
       "      <td>Biz2Credit Inc</td>\n",
       "      <td>30+</td>\n",
       "      <td>3.7</td>\n",
       "    </tr>\n",
       "    <tr>\n",
       "      <th>4</th>\n",
       "      <td>Salasar New Age Technologies</td>\n",
       "      <td>30+</td>\n",
       "      <td>No ratings</td>\n",
       "    </tr>\n",
       "    <tr>\n",
       "      <th>5</th>\n",
       "      <td>Black Console Technologies</td>\n",
       "      <td>3</td>\n",
       "      <td>3.9</td>\n",
       "    </tr>\n",
       "    <tr>\n",
       "      <th>6</th>\n",
       "      <td>Techlive</td>\n",
       "      <td>30+</td>\n",
       "      <td>5.0</td>\n",
       "    </tr>\n",
       "    <tr>\n",
       "      <th>7</th>\n",
       "      <td>adidas</td>\n",
       "      <td>7</td>\n",
       "      <td>1.0</td>\n",
       "    </tr>\n",
       "    <tr>\n",
       "      <th>8</th>\n",
       "      <td>GreenTech Intelligent Transportation System LLP</td>\n",
       "      <td>8</td>\n",
       "      <td>No ratings</td>\n",
       "    </tr>\n",
       "    <tr>\n",
       "      <th>9</th>\n",
       "      <td>Emerging India Group</td>\n",
       "      <td>22</td>\n",
       "      <td>No ratings</td>\n",
       "    </tr>\n",
       "    <tr>\n",
       "      <th>10</th>\n",
       "      <td>Salasar New Age Technologies</td>\n",
       "      <td>30+</td>\n",
       "      <td>No ratings</td>\n",
       "    </tr>\n",
       "    <tr>\n",
       "      <th>11</th>\n",
       "      <td>SearchUrCollege</td>\n",
       "      <td>30+</td>\n",
       "      <td>3.9</td>\n",
       "    </tr>\n",
       "    <tr>\n",
       "      <th>12</th>\n",
       "      <td>IElevate Institute</td>\n",
       "      <td>4</td>\n",
       "      <td>4.0</td>\n",
       "    </tr>\n",
       "    <tr>\n",
       "      <th>13</th>\n",
       "      <td>ANI Calls India Private Limited</td>\n",
       "      <td>30+</td>\n",
       "      <td>4.2</td>\n",
       "    </tr>\n",
       "    <tr>\n",
       "      <th>14</th>\n",
       "      <td>Great Learning</td>\n",
       "      <td>10</td>\n",
       "      <td>No ratings</td>\n",
       "    </tr>\n",
       "  </tbody>\n",
       "</table>\n",
       "</div>"
      ],
      "text/plain": [
       "                                       Company Name Number Of Days     Ratings\n",
       "0                                UnitedHealth Group              2         3.5\n",
       "1                                         QuantumIT             11         3.3\n",
       "2                                    WSD Consultant            30+  No ratings\n",
       "3                                    Biz2Credit Inc            30+         3.7\n",
       "4                      Salasar New Age Technologies            30+  No ratings\n",
       "5                        Black Console Technologies              3         3.9\n",
       "6                                          Techlive            30+         5.0\n",
       "7                                            adidas              7         1.0\n",
       "8   GreenTech Intelligent Transportation System LLP              8  No ratings\n",
       "9                              Emerging India Group             22  No ratings\n",
       "10                     Salasar New Age Technologies            30+  No ratings\n",
       "11                                  SearchUrCollege            30+         3.9\n",
       "12                               IElevate Institute              4         4.0\n",
       "13                  ANI Calls India Private Limited            30+         4.2\n",
       "14                                   Great Learning             10  No ratings"
      ]
     },
     "execution_count": 177,
     "metadata": {},
     "output_type": "execute_result"
    }
   ],
   "source": [
    "fq"
   ]
  },
  {
   "cell_type": "markdown",
   "metadata": {},
   "source": [
    "# Glassdoor 2nd assgnmnt"
   ]
  },
  {
   "cell_type": "code",
   "execution_count": 178,
   "metadata": {},
   "outputs": [],
   "source": [
    "driver=webdriver.Chrome(r\"C:\\Users\\HP\\Desktop\\chromedriver.exe\")"
   ]
  },
  {
   "cell_type": "code",
   "execution_count": 179,
   "metadata": {},
   "outputs": [],
   "source": [
    "url='https://www.glassdoor.co.in/Salaries/index.htm'\n",
    "driver.get(url)"
   ]
  },
  {
   "cell_type": "code",
   "execution_count": 180,
   "metadata": {},
   "outputs": [],
   "source": [
    "a=driver.find_element_by_xpath('//*[@id=\"KeywordSearch\"]')\n",
    "a.send_keys('Data Scientist')"
   ]
  },
  {
   "cell_type": "code",
   "execution_count": 181,
   "metadata": {},
   "outputs": [],
   "source": [
    "b=driver.find_element_by_xpath('//*[@id=\"LocationSearch\"]')"
   ]
  },
  {
   "cell_type": "code",
   "execution_count": 182,
   "metadata": {},
   "outputs": [],
   "source": [
    "from selenium.webdriver.common.keys import Keys"
   ]
  },
  {
   "cell_type": "code",
   "execution_count": 183,
   "metadata": {},
   "outputs": [],
   "source": [
    "b.send_keys(Keys.CONTROL+ 'a')"
   ]
  },
  {
   "cell_type": "code",
   "execution_count": 184,
   "metadata": {},
   "outputs": [],
   "source": [
    "b.send_keys(Keys.DELETE)"
   ]
  },
  {
   "cell_type": "code",
   "execution_count": 185,
   "metadata": {},
   "outputs": [],
   "source": [
    "b.send_keys('Noida')"
   ]
  },
  {
   "cell_type": "code",
   "execution_count": 186,
   "metadata": {},
   "outputs": [],
   "source": [
    "driver.find_element_by_xpath('//*[@id=\"HeroSearchButton\"]').click()"
   ]
  },
  {
   "cell_type": "code",
   "execution_count": 187,
   "metadata": {},
   "outputs": [],
   "source": [
    "x=driver.find_elements_by_xpath(\"//div[@class='col-2 d-none d-md-flex flex-row justify-content-end']/strong\")"
   ]
  },
  {
   "cell_type": "code",
   "execution_count": 188,
   "metadata": {},
   "outputs": [],
   "source": [
    "avr=[]\n",
    "for i in x:\n",
    "    avr.append(i.text.replace('₹','').replace(',',''))"
   ]
  },
  {
   "cell_type": "code",
   "execution_count": 189,
   "metadata": {},
   "outputs": [
    {
     "data": {
      "text/plain": [
       "20"
      ]
     },
     "execution_count": 189,
     "metadata": {},
     "output_type": "execute_result"
    }
   ],
   "source": [
    "len(avr)"
   ]
  },
  {
   "cell_type": "code",
   "execution_count": 190,
   "metadata": {},
   "outputs": [],
   "source": [
    "y=driver.find_elements_by_xpath(\"//div[@class='common__RangeBarStyle__values common__flex__justifySpaceBetween common__flex__container ']/span[1]\")\n",
    "z=driver.find_elements_by_xpath(\"//div[@class='common__RangeBarStyle__values common__flex__justifySpaceBetween common__flex__container ']/span[2]\")"
   ]
  },
  {
   "cell_type": "code",
   "execution_count": 191,
   "metadata": {},
   "outputs": [],
   "source": [
    "min=[]\n",
    "for i in y:\n",
    "    min.append(i.text.replace('₹','').replace('K','000').replace(',',''))\n",
    "    \n",
    "maxx=[]\n",
    "for i in z:\n",
    "    maxx.append(i.text.replace('₹','').replace('K','000').replace(',',''))"
   ]
  },
  {
   "cell_type": "code",
   "execution_count": 192,
   "metadata": {},
   "outputs": [
    {
     "data": {
      "text/plain": [
       "(20, 20)"
      ]
     },
     "execution_count": 192,
     "metadata": {},
     "output_type": "execute_result"
    }
   ],
   "source": [
    "len(maxx),len(min)"
   ]
  },
  {
   "cell_type": "code",
   "execution_count": 193,
   "metadata": {},
   "outputs": [],
   "source": [
    "coms=driver.find_elements_by_xpath(\"//div[@class='col-md-6']/div/div[2]/p[2]\")"
   ]
  },
  {
   "cell_type": "code",
   "execution_count": 194,
   "metadata": {},
   "outputs": [
    {
     "data": {
      "text/plain": [
       "20"
      ]
     },
     "execution_count": 194,
     "metadata": {},
     "output_type": "execute_result"
    }
   ],
   "source": [
    "len(coms)"
   ]
  },
  {
   "cell_type": "code",
   "execution_count": 195,
   "metadata": {},
   "outputs": [],
   "source": [
    "names=[]\n",
    "for i in coms:\n",
    "    names.append(i.text)"
   ]
  },
  {
   "cell_type": "code",
   "execution_count": 196,
   "metadata": {},
   "outputs": [
    {
     "data": {
      "text/plain": [
       "20"
      ]
     },
     "execution_count": 196,
     "metadata": {},
     "output_type": "execute_result"
    }
   ],
   "source": [
    "len(names)"
   ]
  },
  {
   "cell_type": "code",
   "execution_count": 197,
   "metadata": {},
   "outputs": [],
   "source": [
    "r=driver.find_elements_by_xpath(\"//div[@class='col-md-6']/div/div[2]/p[5]\")"
   ]
  },
  {
   "cell_type": "code",
   "execution_count": 198,
   "metadata": {},
   "outputs": [],
   "source": [
    "rat=[]\n",
    "for i in r:\n",
    "    rat.append(i.text.replace(' salaries',''))"
   ]
  },
  {
   "cell_type": "code",
   "execution_count": 199,
   "metadata": {},
   "outputs": [],
   "source": [
    "f=pd.DataFrame({})\n",
    "f['Company']=names\n",
    "f['Minimum Salary']=min\n",
    "f['Maximum Salary']=maxx\n",
    "f['Average Salary']=avr\n",
    "f['Rating']=rat"
   ]
  },
  {
   "cell_type": "code",
   "execution_count": 200,
   "metadata": {},
   "outputs": [
    {
     "data": {
      "text/html": [
       "<div>\n",
       "<style scoped>\n",
       "    .dataframe tbody tr th:only-of-type {\n",
       "        vertical-align: middle;\n",
       "    }\n",
       "\n",
       "    .dataframe tbody tr th {\n",
       "        vertical-align: top;\n",
       "    }\n",
       "\n",
       "    .dataframe thead th {\n",
       "        text-align: right;\n",
       "    }\n",
       "</style>\n",
       "<table border=\"1\" class=\"dataframe\">\n",
       "  <thead>\n",
       "    <tr style=\"text-align: right;\">\n",
       "      <th></th>\n",
       "      <th>Company</th>\n",
       "      <th>Minimum Salary</th>\n",
       "      <th>Maximum Salary</th>\n",
       "      <th>Average Salary</th>\n",
       "      <th>Rating</th>\n",
       "    </tr>\n",
       "  </thead>\n",
       "  <tbody>\n",
       "    <tr>\n",
       "      <th>0</th>\n",
       "      <td>Delhivery</td>\n",
       "      <td>456000</td>\n",
       "      <td>11789000</td>\n",
       "      <td>1281419</td>\n",
       "      <td>13</td>\n",
       "    </tr>\n",
       "    <tr>\n",
       "      <th>1</th>\n",
       "      <td>Ericsson-Worldwide</td>\n",
       "      <td>420000</td>\n",
       "      <td>1636000</td>\n",
       "      <td>752052</td>\n",
       "      <td>11</td>\n",
       "    </tr>\n",
       "    <tr>\n",
       "      <th>2</th>\n",
       "      <td>Accenture</td>\n",
       "      <td>585000</td>\n",
       "      <td>2200000</td>\n",
       "      <td>998925</td>\n",
       "      <td>10</td>\n",
       "    </tr>\n",
       "    <tr>\n",
       "      <th>3</th>\n",
       "      <td>Tata Consultancy Services</td>\n",
       "      <td>336000</td>\n",
       "      <td>1024000</td>\n",
       "      <td>602000</td>\n",
       "      <td>9</td>\n",
       "    </tr>\n",
       "    <tr>\n",
       "      <th>4</th>\n",
       "      <td>IBM</td>\n",
       "      <td>595000</td>\n",
       "      <td>2769000</td>\n",
       "      <td>771657</td>\n",
       "      <td>9</td>\n",
       "    </tr>\n",
       "    <tr>\n",
       "      <th>5</th>\n",
       "      <td>UnitedHealth Group</td>\n",
       "      <td>727000</td>\n",
       "      <td>1597000</td>\n",
       "      <td>1222902</td>\n",
       "      <td>8</td>\n",
       "    </tr>\n",
       "    <tr>\n",
       "      <th>6</th>\n",
       "      <td>Valiance Solutions</td>\n",
       "      <td>509000</td>\n",
       "      <td>1168000</td>\n",
       "      <td>791015</td>\n",
       "      <td>8</td>\n",
       "    </tr>\n",
       "    <tr>\n",
       "      <th>7</th>\n",
       "      <td>Innovaccer</td>\n",
       "      <td>629000</td>\n",
       "      <td>1719000</td>\n",
       "      <td>1215138</td>\n",
       "      <td>7</td>\n",
       "    </tr>\n",
       "    <tr>\n",
       "      <th>8</th>\n",
       "      <td>Cognizant Technology Solutions</td>\n",
       "      <td>804000</td>\n",
       "      <td>1281000</td>\n",
       "      <td>1021889</td>\n",
       "      <td>6</td>\n",
       "    </tr>\n",
       "    <tr>\n",
       "      <th>9</th>\n",
       "      <td>ZS Associates</td>\n",
       "      <td>205000</td>\n",
       "      <td>1835000</td>\n",
       "      <td>1000000</td>\n",
       "      <td>5</td>\n",
       "    </tr>\n",
       "    <tr>\n",
       "      <th>10</th>\n",
       "      <td>OYO</td>\n",
       "      <td>985000</td>\n",
       "      <td>1911000</td>\n",
       "      <td>1433387</td>\n",
       "      <td>5</td>\n",
       "    </tr>\n",
       "    <tr>\n",
       "      <th>11</th>\n",
       "      <td>EXL Service</td>\n",
       "      <td>583000</td>\n",
       "      <td>1227000</td>\n",
       "      <td>1142351</td>\n",
       "      <td>4</td>\n",
       "    </tr>\n",
       "    <tr>\n",
       "      <th>12</th>\n",
       "      <td>Optum</td>\n",
       "      <td>819000</td>\n",
       "      <td>1592000</td>\n",
       "      <td>1257579</td>\n",
       "      <td>4</td>\n",
       "    </tr>\n",
       "    <tr>\n",
       "      <th>13</th>\n",
       "      <td>Sprinklr</td>\n",
       "      <td>1554000</td>\n",
       "      <td>3283000</td>\n",
       "      <td>1553977</td>\n",
       "      <td>4</td>\n",
       "    </tr>\n",
       "    <tr>\n",
       "      <th>14</th>\n",
       "      <td>dunnhumby</td>\n",
       "      <td>829000</td>\n",
       "      <td>2035000</td>\n",
       "      <td>1309262</td>\n",
       "      <td>4</td>\n",
       "    </tr>\n",
       "    <tr>\n",
       "      <th>15</th>\n",
       "      <td>Algo8.ai</td>\n",
       "      <td>87000</td>\n",
       "      <td>1377000</td>\n",
       "      <td>596779</td>\n",
       "      <td>4</td>\n",
       "    </tr>\n",
       "    <tr>\n",
       "      <th>16</th>\n",
       "      <td>Publicis Sapient</td>\n",
       "      <td>936000</td>\n",
       "      <td>1807000</td>\n",
       "      <td>1700000</td>\n",
       "      <td>3</td>\n",
       "    </tr>\n",
       "    <tr>\n",
       "      <th>17</th>\n",
       "      <td>Nagarro</td>\n",
       "      <td>641000</td>\n",
       "      <td>1140000</td>\n",
       "      <td>975474</td>\n",
       "      <td>3</td>\n",
       "    </tr>\n",
       "    <tr>\n",
       "      <th>18</th>\n",
       "      <td>Times Internet</td>\n",
       "      <td>1442000</td>\n",
       "      <td>3561000</td>\n",
       "      <td>3511792</td>\n",
       "      <td>3</td>\n",
       "    </tr>\n",
       "    <tr>\n",
       "      <th>19</th>\n",
       "      <td>CARS24.com</td>\n",
       "      <td>865000</td>\n",
       "      <td>1504000</td>\n",
       "      <td>1494988</td>\n",
       "      <td>3</td>\n",
       "    </tr>\n",
       "  </tbody>\n",
       "</table>\n",
       "</div>"
      ],
      "text/plain": [
       "                           Company Minimum Salary Maximum Salary  \\\n",
       "0                        Delhivery         456000       11789000   \n",
       "1               Ericsson-Worldwide         420000        1636000   \n",
       "2                        Accenture         585000        2200000   \n",
       "3        Tata Consultancy Services         336000        1024000   \n",
       "4                              IBM         595000        2769000   \n",
       "5               UnitedHealth Group         727000        1597000   \n",
       "6               Valiance Solutions         509000        1168000   \n",
       "7                       Innovaccer         629000        1719000   \n",
       "8   Cognizant Technology Solutions         804000        1281000   \n",
       "9                    ZS Associates         205000        1835000   \n",
       "10                             OYO         985000        1911000   \n",
       "11                     EXL Service         583000        1227000   \n",
       "12                           Optum         819000        1592000   \n",
       "13                        Sprinklr        1554000        3283000   \n",
       "14                       dunnhumby         829000        2035000   \n",
       "15                        Algo8.ai          87000        1377000   \n",
       "16                Publicis Sapient         936000        1807000   \n",
       "17                         Nagarro         641000        1140000   \n",
       "18                  Times Internet        1442000        3561000   \n",
       "19                      CARS24.com         865000        1504000   \n",
       "\n",
       "   Average Salary Rating  \n",
       "0         1281419     13  \n",
       "1          752052     11  \n",
       "2          998925     10  \n",
       "3          602000      9  \n",
       "4          771657      9  \n",
       "5         1222902      8  \n",
       "6          791015      8  \n",
       "7         1215138      7  \n",
       "8         1021889      6  \n",
       "9         1000000      5  \n",
       "10        1433387      5  \n",
       "11        1142351      4  \n",
       "12        1257579      4  \n",
       "13        1553977      4  \n",
       "14        1309262      4  \n",
       "15         596779      4  \n",
       "16        1700000      3  \n",
       "17         975474      3  \n",
       "18        3511792      3  \n",
       "19        1494988      3  "
      ]
     },
     "execution_count": 200,
     "metadata": {},
     "output_type": "execute_result"
    }
   ],
   "source": [
    "f"
   ]
  },
  {
   "cell_type": "markdown",
   "metadata": {},
   "source": [
    "# Flipkart"
   ]
  },
  {
   "cell_type": "code",
   "execution_count": 422,
   "metadata": {},
   "outputs": [],
   "source": [
    "driver=webdriver.Chrome(r\"C:\\Users\\HP\\Desktop\\chromedriver.exe\")"
   ]
  },
  {
   "cell_type": "code",
   "execution_count": 423,
   "metadata": {},
   "outputs": [],
   "source": [
    "url='https://www.flipkart.com/'\n",
    "driver.get(url)"
   ]
  },
  {
   "cell_type": "code",
   "execution_count": 424,
   "metadata": {},
   "outputs": [],
   "source": [
    "a=driver.find_element_by_xpath('//*[@id=\"container\"]/div/div[1]/div[1]/div[2]/div[2]/form/div/div/input')"
   ]
  },
  {
   "cell_type": "code",
   "execution_count": 425,
   "metadata": {},
   "outputs": [],
   "source": [
    "driver.find_element_by_xpath('/html/body/div[2]/div/div/button').click()"
   ]
  },
  {
   "cell_type": "code",
   "execution_count": 426,
   "metadata": {},
   "outputs": [],
   "source": [
    "a.send_keys('Sunglasses')"
   ]
  },
  {
   "cell_type": "code",
   "execution_count": 427,
   "metadata": {},
   "outputs": [],
   "source": [
    "driver.find_element_by_xpath('//*[@id=\"container\"]/div/div[1]/div[1]/div[2]/div[2]/form/div/button').click()"
   ]
  },
  {
   "cell_type": "code",
   "execution_count": 429,
   "metadata": {},
   "outputs": [],
   "source": [
    "comp=[]\n",
    "descr=[]\n",
    "price=[]\n",
    "disc=[]\n",
    "\n",
    "for i in range(1,4):\n",
    "    driver.get(f'https://www.flipkart.com/search?q=Sunglasses&otracker=search&otracker{i}=search&marketplace=FLIPKART&as-show=on&as=off&page={i}')\n",
    "    \n",
    "    \n",
    "    b=driver.find_elements_by_xpath(\"//div[@class='_2WkVRV']\")\n",
    "    \n",
    "    \n",
    "    for i in b:\n",
    "        comp.append(i.text)\n",
    "    \n",
    "    \n",
    "    jd=driver.find_elements_by_xpath(\"//div[@class='_2B099V']/a[1]\")\n",
    "    \n",
    "    for i in jd:\n",
    "        descr.append(i.text)\n",
    "    \n",
    "    \n",
    "    p=driver.find_elements_by_xpath(\"//div[@class='_30jeq3']\")\n",
    "    \n",
    "    for i in p:\n",
    "        price.append(i.text.replace('₹',''))\n",
    "    \n",
    "    d=driver.find_elements_by_xpath(\"//div[@class='_3Ay6Sb']/span\")\n",
    "    \n",
    "    for i in d:\n",
    "        disc.append(i.text.replace('off','').replace('%',''))"
   ]
  },
  {
   "cell_type": "code",
   "execution_count": 438,
   "metadata": {},
   "outputs": [
    {
     "data": {
      "text/plain": [
       "120"
      ]
     },
     "execution_count": 438,
     "metadata": {},
     "output_type": "execute_result"
    }
   ],
   "source": [
    "len(comp)"
   ]
  },
  {
   "cell_type": "code",
   "execution_count": 440,
   "metadata": {},
   "outputs": [],
   "source": [
    "final=pd.DataFrame({})"
   ]
  },
  {
   "cell_type": "code",
   "execution_count": 444,
   "metadata": {},
   "outputs": [],
   "source": [
    "final['Company']=comp\n",
    "final['Description']=descr\n",
    "final['Price']=price\n",
    "final['Discount']=disc"
   ]
  },
  {
   "cell_type": "code",
   "execution_count": 445,
   "metadata": {},
   "outputs": [],
   "source": [
    "final=final[0:100]"
   ]
  },
  {
   "cell_type": "code",
   "execution_count": 446,
   "metadata": {},
   "outputs": [
    {
     "data": {
      "text/html": [
       "<div>\n",
       "<style scoped>\n",
       "    .dataframe tbody tr th:only-of-type {\n",
       "        vertical-align: middle;\n",
       "    }\n",
       "\n",
       "    .dataframe tbody tr th {\n",
       "        vertical-align: top;\n",
       "    }\n",
       "\n",
       "    .dataframe thead th {\n",
       "        text-align: right;\n",
       "    }\n",
       "</style>\n",
       "<table border=\"1\" class=\"dataframe\">\n",
       "  <thead>\n",
       "    <tr style=\"text-align: right;\">\n",
       "      <th></th>\n",
       "      <th>Company</th>\n",
       "      <th>Description</th>\n",
       "      <th>Price</th>\n",
       "      <th>Discount</th>\n",
       "    </tr>\n",
       "  </thead>\n",
       "  <tbody>\n",
       "    <tr>\n",
       "      <th>0</th>\n",
       "      <td>Adrenex</td>\n",
       "      <td>Polarized, Gradient Sports Sunglasses (60)</td>\n",
       "      <td>536</td>\n",
       "      <td>82</td>\n",
       "    </tr>\n",
       "    <tr>\n",
       "      <th>1</th>\n",
       "      <td>Adrenex</td>\n",
       "      <td>Polarized, UV Protection Sports Sunglasses (60)</td>\n",
       "      <td>536</td>\n",
       "      <td>85</td>\n",
       "    </tr>\n",
       "    <tr>\n",
       "      <th>2</th>\n",
       "      <td>FDA COLLECTION</td>\n",
       "      <td>Gradient, Mirrored, UV Protection Round, Round...</td>\n",
       "      <td>199</td>\n",
       "      <td>84</td>\n",
       "    </tr>\n",
       "    <tr>\n",
       "      <th>3</th>\n",
       "      <td>shah collections</td>\n",
       "      <td>UV Protection, Polarized, Mirrored Rectangular...</td>\n",
       "      <td>219</td>\n",
       "      <td>78</td>\n",
       "    </tr>\n",
       "    <tr>\n",
       "      <th>4</th>\n",
       "      <td>Phenomenal</td>\n",
       "      <td>UV Protection, Mirrored Retro Square Sunglasse...</td>\n",
       "      <td>399</td>\n",
       "      <td>80</td>\n",
       "    </tr>\n",
       "    <tr>\n",
       "      <th>...</th>\n",
       "      <td>...</td>\n",
       "      <td>...</td>\n",
       "      <td>...</td>\n",
       "      <td>...</td>\n",
       "    </tr>\n",
       "    <tr>\n",
       "      <th>95</th>\n",
       "      <td>BKGE</td>\n",
       "      <td>UV Protection, Polarized Rectangular, Retro Sq...</td>\n",
       "      <td>389</td>\n",
       "      <td>78</td>\n",
       "    </tr>\n",
       "    <tr>\n",
       "      <th>96</th>\n",
       "      <td>shah collections</td>\n",
       "      <td>UV Protection Round Sunglasses (Free Size)</td>\n",
       "      <td>198</td>\n",
       "      <td>84</td>\n",
       "    </tr>\n",
       "    <tr>\n",
       "      <th>97</th>\n",
       "      <td>Aislin</td>\n",
       "      <td>UV Protection, Gradient Butterfly, Retro Squar...</td>\n",
       "      <td>425</td>\n",
       "      <td>72</td>\n",
       "    </tr>\n",
       "    <tr>\n",
       "      <th>98</th>\n",
       "      <td>Silver Kartz</td>\n",
       "      <td>UV Protection Wayfarer Sunglasses (Free Size)</td>\n",
       "      <td>233</td>\n",
       "      <td>84</td>\n",
       "    </tr>\n",
       "    <tr>\n",
       "      <th>99</th>\n",
       "      <td>Silver Kartz</td>\n",
       "      <td>UV Protection Aviator Sunglasses (62)</td>\n",
       "      <td>242</td>\n",
       "      <td>79</td>\n",
       "    </tr>\n",
       "  </tbody>\n",
       "</table>\n",
       "<p>100 rows × 4 columns</p>\n",
       "</div>"
      ],
      "text/plain": [
       "             Company                                        Description Price  \\\n",
       "0            Adrenex         Polarized, Gradient Sports Sunglasses (60)   536   \n",
       "1            Adrenex    Polarized, UV Protection Sports Sunglasses (60)   536   \n",
       "2     FDA COLLECTION  Gradient, Mirrored, UV Protection Round, Round...   199   \n",
       "3   shah collections  UV Protection, Polarized, Mirrored Rectangular...   219   \n",
       "4         Phenomenal  UV Protection, Mirrored Retro Square Sunglasse...   399   \n",
       "..               ...                                                ...   ...   \n",
       "95              BKGE  UV Protection, Polarized Rectangular, Retro Sq...   389   \n",
       "96  shah collections         UV Protection Round Sunglasses (Free Size)   198   \n",
       "97            Aislin  UV Protection, Gradient Butterfly, Retro Squar...   425   \n",
       "98      Silver Kartz      UV Protection Wayfarer Sunglasses (Free Size)   233   \n",
       "99      Silver Kartz              UV Protection Aviator Sunglasses (62)   242   \n",
       "\n",
       "   Discount  \n",
       "0       82   \n",
       "1       85   \n",
       "2       84   \n",
       "3       78   \n",
       "4       80   \n",
       "..      ...  \n",
       "95      78   \n",
       "96      84   \n",
       "97      72   \n",
       "98      84   \n",
       "99      79   \n",
       "\n",
       "[100 rows x 4 columns]"
      ]
     },
     "execution_count": 446,
     "metadata": {},
     "output_type": "execute_result"
    }
   ],
   "source": [
    "final"
   ]
  },
  {
   "cell_type": "markdown",
   "metadata": {},
   "source": [
    "# Phone"
   ]
  },
  {
   "cell_type": "code",
   "execution_count": 507,
   "metadata": {},
   "outputs": [],
   "source": [
    "driver=webdriver.Chrome(r\"C:\\Users\\HP\\Desktop\\chromedriver.exe\")"
   ]
  },
  {
   "cell_type": "code",
   "execution_count": 508,
   "metadata": {},
   "outputs": [],
   "source": [
    "rating=[]\n",
    "shortd=[]\n",
    "longd=[]"
   ]
  },
  {
   "cell_type": "code",
   "execution_count": 509,
   "metadata": {},
   "outputs": [],
   "source": [
    "for i in range(1,11):\n",
    "    url=f'https://www.flipkart.com/apple-iphone-11-black-64-gb-includes-earpods-power-adapter/product-reviews/itm0f37c2240b217?pid=MOBFKCTSVZAXUHGR&lid=LSTMOBFKCTSVZAXUHGR3QP11A&marketplace=FLIPKART&page={i}'\n",
    "    driver.get(url)\n",
    "\n",
    "    r=driver.find_elements_by_xpath(\"//div[@class='col _2wzgFH K0kLPL']/div[1]/div[1]\")\n",
    "    for a in r:\n",
    "        rating.append(a.text)\n",
    "    \n",
    "    sd=driver.find_elements_by_xpath(\"//p[@class='_2-N8zT']\")\n",
    "    for i in sd:\n",
    "        shortd.append(i.text)\n",
    "        \n",
    "    ld=driver.find_elements_by_xpath(\"//div[@class='t-ZTKy']/div/div\")\n",
    "    for i in ld:\n",
    "        longd.append(i.text)"
   ]
  },
  {
   "cell_type": "code",
   "execution_count": 511,
   "metadata": {},
   "outputs": [],
   "source": [
    "Phone=pd.DataFrame({})"
   ]
  },
  {
   "cell_type": "code",
   "execution_count": 512,
   "metadata": {},
   "outputs": [],
   "source": [
    "Phone['Ratings']=rating\n",
    "Phone['Short Description']=shortd\n",
    "Phone['Long Description']=longd"
   ]
  },
  {
   "cell_type": "code",
   "execution_count": 513,
   "metadata": {},
   "outputs": [
    {
     "data": {
      "text/html": [
       "<div>\n",
       "<style scoped>\n",
       "    .dataframe tbody tr th:only-of-type {\n",
       "        vertical-align: middle;\n",
       "    }\n",
       "\n",
       "    .dataframe tbody tr th {\n",
       "        vertical-align: top;\n",
       "    }\n",
       "\n",
       "    .dataframe thead th {\n",
       "        text-align: right;\n",
       "    }\n",
       "</style>\n",
       "<table border=\"1\" class=\"dataframe\">\n",
       "  <thead>\n",
       "    <tr style=\"text-align: right;\">\n",
       "      <th></th>\n",
       "      <th>Ratings</th>\n",
       "      <th>Short Description</th>\n",
       "      <th>Long Description</th>\n",
       "    </tr>\n",
       "  </thead>\n",
       "  <tbody>\n",
       "    <tr>\n",
       "      <th>0</th>\n",
       "      <td>5</td>\n",
       "      <td>Perfect product!</td>\n",
       "      <td>Amazing phone with great cameras and better ba...</td>\n",
       "    </tr>\n",
       "    <tr>\n",
       "      <th>1</th>\n",
       "      <td>5</td>\n",
       "      <td>Great product</td>\n",
       "      <td>Amazing Powerful and Durable Gadget.\\n\\nI’m am...</td>\n",
       "    </tr>\n",
       "    <tr>\n",
       "      <th>2</th>\n",
       "      <td>5</td>\n",
       "      <td>Highly recommended</td>\n",
       "      <td>iphone 11 is a very good phone to buy only if ...</td>\n",
       "    </tr>\n",
       "    <tr>\n",
       "      <th>3</th>\n",
       "      <td>5</td>\n",
       "      <td>Perfect product!</td>\n",
       "      <td>It’s a must buy who is looking for an upgrade ...</td>\n",
       "    </tr>\n",
       "    <tr>\n",
       "      <th>4</th>\n",
       "      <td>5</td>\n",
       "      <td>Perfect product!</td>\n",
       "      <td>Value for money❤️❤️\\nIts awesome mobile phone ...</td>\n",
       "    </tr>\n",
       "    <tr>\n",
       "      <th>...</th>\n",
       "      <td>...</td>\n",
       "      <td>...</td>\n",
       "      <td>...</td>\n",
       "    </tr>\n",
       "    <tr>\n",
       "      <th>95</th>\n",
       "      <td>4</td>\n",
       "      <td>Good quality product</td>\n",
       "      <td>I was torn between the oneplus 8 pro and the i...</td>\n",
       "    </tr>\n",
       "    <tr>\n",
       "      <th>96</th>\n",
       "      <td>5</td>\n",
       "      <td>Super!</td>\n",
       "      <td>It's a great phone. From camera to display eve...</td>\n",
       "    </tr>\n",
       "    <tr>\n",
       "      <th>97</th>\n",
       "      <td>5</td>\n",
       "      <td>Fabulous!</td>\n",
       "      <td>Iphone is best ever but Flipkart delivered is ...</td>\n",
       "    </tr>\n",
       "    <tr>\n",
       "      <th>98</th>\n",
       "      <td>5</td>\n",
       "      <td>Fabulous!</td>\n",
       "      <td>I have been using android from last 9 years an...</td>\n",
       "    </tr>\n",
       "    <tr>\n",
       "      <th>99</th>\n",
       "      <td>5</td>\n",
       "      <td>Wonderful</td>\n",
       "      <td>Works seamlessly, I get an avg 1.5 days batter...</td>\n",
       "    </tr>\n",
       "  </tbody>\n",
       "</table>\n",
       "<p>100 rows × 3 columns</p>\n",
       "</div>"
      ],
      "text/plain": [
       "   Ratings     Short Description  \\\n",
       "0        5      Perfect product!   \n",
       "1        5         Great product   \n",
       "2        5    Highly recommended   \n",
       "3        5      Perfect product!   \n",
       "4        5      Perfect product!   \n",
       "..     ...                   ...   \n",
       "95       4  Good quality product   \n",
       "96       5                Super!   \n",
       "97       5             Fabulous!   \n",
       "98       5             Fabulous!   \n",
       "99       5             Wonderful   \n",
       "\n",
       "                                     Long Description  \n",
       "0   Amazing phone with great cameras and better ba...  \n",
       "1   Amazing Powerful and Durable Gadget.\\n\\nI’m am...  \n",
       "2   iphone 11 is a very good phone to buy only if ...  \n",
       "3   It’s a must buy who is looking for an upgrade ...  \n",
       "4   Value for money❤️❤️\\nIts awesome mobile phone ...  \n",
       "..                                                ...  \n",
       "95  I was torn between the oneplus 8 pro and the i...  \n",
       "96  It's a great phone. From camera to display eve...  \n",
       "97  Iphone is best ever but Flipkart delivered is ...  \n",
       "98  I have been using android from last 9 years an...  \n",
       "99  Works seamlessly, I get an avg 1.5 days batter...  \n",
       "\n",
       "[100 rows x 3 columns]"
      ]
     },
     "execution_count": 513,
     "metadata": {},
     "output_type": "execute_result"
    }
   ],
   "source": [
    "Phone"
   ]
  },
  {
   "cell_type": "markdown",
   "metadata": {},
   "source": [
    "# Sneakers"
   ]
  },
  {
   "cell_type": "code",
   "execution_count": 60,
   "metadata": {},
   "outputs": [],
   "source": [
    "driver=webdriver.Chrome(r\"C:\\Users\\HP\\Desktop\\chromedriver.exe\")"
   ]
  },
  {
   "cell_type": "code",
   "execution_count": 117,
   "metadata": {},
   "outputs": [],
   "source": [
    "br=[]\n",
    "short=[]\n",
    "price=[]\n",
    "disc=[]\n",
    "\n",
    "\n",
    "\n",
    "for i in range(1,4):\n",
    "    driver.get(f'https://www.flipkart.com/search?q=sneakers&otracker=search&otracker{i}=search&marketplace=FLIPKART&as-show=off&as=off&page={i}')\n",
    "    a=driver.find_elements_by_xpath(\"//div[@class='_2WkVRV']\")\n",
    "    \n",
    "    b=driver.find_elements_by_xpath(\"//div[@class='_2B099V']/a[1]\")\n",
    "    \n",
    "    c=driver.find_elements_by_xpath(\"//div[@class='_30jeq3']\")\n",
    "    \n",
    "    d=driver.find_elements_by_xpath(\"//div[@class='_3Ay6Sb']/span\")\n",
    "    \n",
    "    for i in a:\n",
    "        br.append(i.text)\n",
    "        \n",
    "    for i in b:\n",
    "        short.append(i.text)\n",
    "    \n",
    "    for i in c:\n",
    "        price.append(i.text.replace('₹','').replace(',',''))\n",
    "        \n",
    "    for i in d:\n",
    "        disc.append(i.text.replace('off','').replace('%',''))\n",
    "        "
   ]
  },
  {
   "cell_type": "code",
   "execution_count": 151,
   "metadata": {},
   "outputs": [],
   "source": [
    "disc=disc[0:100]\n",
    "price=price[0:100]\n",
    "br=br[0:100]\n",
    "short=short[0:100]"
   ]
  },
  {
   "cell_type": "code",
   "execution_count": 159,
   "metadata": {},
   "outputs": [],
   "source": [
    "f['Brand']=br\n",
    "f['Product Description']=short\n",
    "f['Discount']=disc\n",
    "f['Price']=price"
   ]
  },
  {
   "cell_type": "code",
   "execution_count": 160,
   "metadata": {},
   "outputs": [
    {
     "data": {
      "text/html": [
       "<div>\n",
       "<style scoped>\n",
       "    .dataframe tbody tr th:only-of-type {\n",
       "        vertical-align: middle;\n",
       "    }\n",
       "\n",
       "    .dataframe tbody tr th {\n",
       "        vertical-align: top;\n",
       "    }\n",
       "\n",
       "    .dataframe thead th {\n",
       "        text-align: right;\n",
       "    }\n",
       "</style>\n",
       "<table border=\"1\" class=\"dataframe\">\n",
       "  <thead>\n",
       "    <tr style=\"text-align: right;\">\n",
       "      <th></th>\n",
       "      <th>Brand</th>\n",
       "      <th>Product Description</th>\n",
       "      <th>Discount</th>\n",
       "      <th>Price</th>\n",
       "    </tr>\n",
       "  </thead>\n",
       "  <tbody>\n",
       "    <tr>\n",
       "      <th>0</th>\n",
       "      <td>Rockfield</td>\n",
       "      <td>Sneakers For Men</td>\n",
       "      <td>60</td>\n",
       "      <td>399</td>\n",
       "    </tr>\n",
       "    <tr>\n",
       "      <th>1</th>\n",
       "      <td>Levi's</td>\n",
       "      <td>EXCLUSIVE Sneaker For Men</td>\n",
       "      <td>49</td>\n",
       "      <td>1400</td>\n",
       "    </tr>\n",
       "    <tr>\n",
       "      <th>2</th>\n",
       "      <td>Chevit</td>\n",
       "      <td>Combo Pack of 4 Casual Sneakers With Sneakers ...</td>\n",
       "      <td>75</td>\n",
       "      <td>499</td>\n",
       "    </tr>\n",
       "    <tr>\n",
       "      <th>3</th>\n",
       "      <td>Robbie jones</td>\n",
       "      <td>Casual Sneakers Shoes For Men Sneakers For Men</td>\n",
       "      <td>62</td>\n",
       "      <td>378</td>\n",
       "    </tr>\n",
       "    <tr>\n",
       "      <th>4</th>\n",
       "      <td>BRUTON</td>\n",
       "      <td>Combo Pack Of 4 Canvas Sneakers For Men</td>\n",
       "      <td>84</td>\n",
       "      <td>526</td>\n",
       "    </tr>\n",
       "    <tr>\n",
       "      <th>...</th>\n",
       "      <td>...</td>\n",
       "      <td>...</td>\n",
       "      <td>...</td>\n",
       "      <td>...</td>\n",
       "    </tr>\n",
       "    <tr>\n",
       "      <th>95</th>\n",
       "      <td>Tryviz</td>\n",
       "      <td>Perfect Black Sneaker Sport Casual Canvas Runn...</td>\n",
       "      <td>75</td>\n",
       "      <td>280</td>\n",
       "    </tr>\n",
       "    <tr>\n",
       "      <th>96</th>\n",
       "      <td>Camfoot</td>\n",
       "      <td>Combo Pack of 2 Latest Collection Stylish Casu...</td>\n",
       "      <td>49</td>\n",
       "      <td>328</td>\n",
       "    </tr>\n",
       "    <tr>\n",
       "      <th>97</th>\n",
       "      <td>Aura</td>\n",
       "      <td>Combo Pack of 3 Casual Shoes Sneakers For Men</td>\n",
       "      <td>60</td>\n",
       "      <td>794</td>\n",
       "    </tr>\n",
       "    <tr>\n",
       "      <th>98</th>\n",
       "      <td>My Cool Step</td>\n",
       "      <td>Blue Denim Men's Sneakers Shoes Sneakers For Men</td>\n",
       "      <td>40</td>\n",
       "      <td>316</td>\n",
       "    </tr>\n",
       "    <tr>\n",
       "      <th>99</th>\n",
       "      <td>Levi's</td>\n",
       "      <td>Indi Exclusive Sneaker For Men</td>\n",
       "      <td>45</td>\n",
       "      <td>1400</td>\n",
       "    </tr>\n",
       "  </tbody>\n",
       "</table>\n",
       "<p>100 rows × 4 columns</p>\n",
       "</div>"
      ],
      "text/plain": [
       "           Brand                                Product Description Discount  \\\n",
       "0      Rockfield                                   Sneakers For Men      60    \n",
       "1         Levi's                          EXCLUSIVE Sneaker For Men      49    \n",
       "2         Chevit  Combo Pack of 4 Casual Sneakers With Sneakers ...      75    \n",
       "3   Robbie jones     Casual Sneakers Shoes For Men Sneakers For Men      62    \n",
       "4         BRUTON            Combo Pack Of 4 Canvas Sneakers For Men      84    \n",
       "..           ...                                                ...      ...   \n",
       "95        Tryviz  Perfect Black Sneaker Sport Casual Canvas Runn...      75    \n",
       "96       Camfoot  Combo Pack of 2 Latest Collection Stylish Casu...      49    \n",
       "97          Aura      Combo Pack of 3 Casual Shoes Sneakers For Men      60    \n",
       "98  My Cool Step   Blue Denim Men's Sneakers Shoes Sneakers For Men      40    \n",
       "99        Levi's                     Indi Exclusive Sneaker For Men      45    \n",
       "\n",
       "   Price  \n",
       "0    399  \n",
       "1   1400  \n",
       "2    499  \n",
       "3    378  \n",
       "4    526  \n",
       "..   ...  \n",
       "95   280  \n",
       "96   328  \n",
       "97   794  \n",
       "98   316  \n",
       "99  1400  \n",
       "\n",
       "[100 rows x 4 columns]"
      ]
     },
     "execution_count": 160,
     "metadata": {},
     "output_type": "execute_result"
    }
   ],
   "source": [
    "f"
   ]
  },
  {
   "cell_type": "markdown",
   "metadata": {},
   "source": [
    "# MYNTRA"
   ]
  },
  {
   "cell_type": "code",
   "execution_count": 525,
   "metadata": {},
   "outputs": [],
   "source": [
    "driver=webdriver.Chrome(r\"C:\\Users\\HP\\Desktop\\chromedriver.exe\")"
   ]
  },
  {
   "cell_type": "code",
   "execution_count": 531,
   "metadata": {},
   "outputs": [],
   "source": [
    "url='https://www.myntra.com/shoes'"
   ]
  },
  {
   "cell_type": "code",
   "execution_count": 540,
   "metadata": {},
   "outputs": [],
   "source": [
    "driver.get(url)"
   ]
  },
  {
   "cell_type": "code",
   "execution_count": 541,
   "metadata": {},
   "outputs": [],
   "source": [
    "driver.find_element_by_xpath(\"//ul[@class='price-list']/li[2]\").click()\n",
    "driver.find_element_by_xpath(\"//ul[@class='price-list']/li[2]\").click()"
   ]
  },
  {
   "cell_type": "code",
   "execution_count": 543,
   "metadata": {},
   "outputs": [],
   "source": [
    "l=[]\n",
    "for i in range(1,3):\n",
    "    a=driver.find_elements_by_xpath(\"//li[@class='product-base']/a\")\n",
    "    \n",
    "    for c in a:\n",
    "        b=c.get_property('href')\n",
    "        l.append(b)\n",
    "    driver.find_element_by_xpath(\"//li[@class='pagination-next']\").click()\n",
    "    time.sleep(3)"
   ]
  },
  {
   "cell_type": "code",
   "execution_count": 544,
   "metadata": {},
   "outputs": [],
   "source": [
    "tit=[]\n",
    "short=[]\n",
    "p=[]"
   ]
  },
  {
   "cell_type": "code",
   "execution_count": 545,
   "metadata": {},
   "outputs": [],
   "source": [
    "for i in l:\n",
    "    driver.get(i)\n",
    "    \n",
    "    a=driver.find_element_by_xpath(\"//h1[@class='pdp-title']\")\n",
    "    b=driver.find_element_by_xpath(\"//h1[@class='pdp-name']\")\n",
    "    c=driver.find_element_by_xpath(\"//span[@class='pdp-price']/strong\")\n",
    "    \n",
    "    tit.append(a.text)\n",
    "    short.append(b.text)\n",
    "    p.append(c.text)"
   ]
  },
  {
   "cell_type": "code",
   "execution_count": 546,
   "metadata": {},
   "outputs": [],
   "source": [
    "f=pd.DataFrame({})\n",
    "\n",
    "f['Brand']=tit\n",
    "f['Description']=short\n",
    "f['Price']=p"
   ]
  },
  {
   "cell_type": "code",
   "execution_count": 547,
   "metadata": {},
   "outputs": [
    {
     "data": {
      "text/html": [
       "<div>\n",
       "<style scoped>\n",
       "    .dataframe tbody tr th:only-of-type {\n",
       "        vertical-align: middle;\n",
       "    }\n",
       "\n",
       "    .dataframe tbody tr th {\n",
       "        vertical-align: top;\n",
       "    }\n",
       "\n",
       "    .dataframe thead th {\n",
       "        text-align: right;\n",
       "    }\n",
       "</style>\n",
       "<table border=\"1\" class=\"dataframe\">\n",
       "  <thead>\n",
       "    <tr style=\"text-align: right;\">\n",
       "      <th></th>\n",
       "      <th>Brand</th>\n",
       "      <th>Description</th>\n",
       "      <th>Price</th>\n",
       "    </tr>\n",
       "  </thead>\n",
       "  <tbody>\n",
       "    <tr>\n",
       "      <th>0</th>\n",
       "      <td>Nike</td>\n",
       "      <td>Men Grey Zoom Span 3 Premium Running Shoe</td>\n",
       "      <td>Rs. 6099</td>\n",
       "    </tr>\n",
       "    <tr>\n",
       "      <th>1</th>\n",
       "      <td>ADIDAS Originals</td>\n",
       "      <td>Men Multicoloured CAMPUS 80s Leather Sneakers</td>\n",
       "      <td>Rs. 9099</td>\n",
       "    </tr>\n",
       "    <tr>\n",
       "      <th>2</th>\n",
       "      <td>Nike</td>\n",
       "      <td>Men Black &amp; Beige JORDAN DELTA Sneakers</td>\n",
       "      <td>Rs. 8199</td>\n",
       "    </tr>\n",
       "    <tr>\n",
       "      <th>3</th>\n",
       "      <td>Nike</td>\n",
       "      <td>Men White AIR MAX 90 SE Running Shoes</td>\n",
       "      <td>Rs. 9199</td>\n",
       "    </tr>\n",
       "    <tr>\n",
       "      <th>4</th>\n",
       "      <td>Nike</td>\n",
       "      <td>Men Black &amp; Yellow JOYRIDE Running Shoes</td>\n",
       "      <td>Rs. 11199</td>\n",
       "    </tr>\n",
       "    <tr>\n",
       "      <th>...</th>\n",
       "      <td>...</td>\n",
       "      <td>...</td>\n",
       "      <td>...</td>\n",
       "    </tr>\n",
       "    <tr>\n",
       "      <th>95</th>\n",
       "      <td>ALDO</td>\n",
       "      <td>Men Black Leather Loafers</td>\n",
       "      <td>Rs. 6499</td>\n",
       "    </tr>\n",
       "    <tr>\n",
       "      <th>96</th>\n",
       "      <td>Tommy Hilfiger</td>\n",
       "      <td>Women White Sneakers</td>\n",
       "      <td>Rs. 5949</td>\n",
       "    </tr>\n",
       "    <tr>\n",
       "      <th>97</th>\n",
       "      <td>Tommy Hilfiger</td>\n",
       "      <td>Women Navy Blue Solid Mid-Top Flat Boots</td>\n",
       "      <td>Rs. 6269</td>\n",
       "    </tr>\n",
       "    <tr>\n",
       "      <th>98</th>\n",
       "      <td>Cole Haan</td>\n",
       "      <td>Women White ZeroGrand All Day Stitchlite Sneakers</td>\n",
       "      <td>Rs. 7999</td>\n",
       "    </tr>\n",
       "    <tr>\n",
       "      <th>99</th>\n",
       "      <td>Nike</td>\n",
       "      <td>Women Black Air Max VG-R Sneakers</td>\n",
       "      <td>Rs. 6599</td>\n",
       "    </tr>\n",
       "  </tbody>\n",
       "</table>\n",
       "<p>100 rows × 3 columns</p>\n",
       "</div>"
      ],
      "text/plain": [
       "               Brand                                        Description  \\\n",
       "0               Nike          Men Grey Zoom Span 3 Premium Running Shoe   \n",
       "1   ADIDAS Originals      Men Multicoloured CAMPUS 80s Leather Sneakers   \n",
       "2               Nike            Men Black & Beige JORDAN DELTA Sneakers   \n",
       "3               Nike              Men White AIR MAX 90 SE Running Shoes   \n",
       "4               Nike           Men Black & Yellow JOYRIDE Running Shoes   \n",
       "..               ...                                                ...   \n",
       "95              ALDO                          Men Black Leather Loafers   \n",
       "96    Tommy Hilfiger                               Women White Sneakers   \n",
       "97    Tommy Hilfiger           Women Navy Blue Solid Mid-Top Flat Boots   \n",
       "98         Cole Haan  Women White ZeroGrand All Day Stitchlite Sneakers   \n",
       "99              Nike                  Women Black Air Max VG-R Sneakers   \n",
       "\n",
       "        Price  \n",
       "0    Rs. 6099  \n",
       "1    Rs. 9099  \n",
       "2    Rs. 8199  \n",
       "3    Rs. 9199  \n",
       "4   Rs. 11199  \n",
       "..        ...  \n",
       "95   Rs. 6499  \n",
       "96   Rs. 5949  \n",
       "97   Rs. 6269  \n",
       "98   Rs. 7999  \n",
       "99   Rs. 6599  \n",
       "\n",
       "[100 rows x 3 columns]"
      ]
     },
     "execution_count": 547,
     "metadata": {},
     "output_type": "execute_result"
    }
   ],
   "source": [
    "f"
   ]
  },
  {
   "cell_type": "code",
   "execution_count": null,
   "metadata": {},
   "outputs": [],
   "source": []
  },
  {
   "cell_type": "code",
   "execution_count": null,
   "metadata": {},
   "outputs": [],
   "source": []
  },
  {
   "cell_type": "code",
   "execution_count": null,
   "metadata": {},
   "outputs": [],
   "source": []
  },
  {
   "cell_type": "code",
   "execution_count": null,
   "metadata": {},
   "outputs": [],
   "source": []
  },
  {
   "cell_type": "code",
   "execution_count": null,
   "metadata": {},
   "outputs": [],
   "source": []
  }
 ],
 "metadata": {
  "kernelspec": {
   "display_name": "Python 3",
   "language": "python",
   "name": "python3"
  },
  "language_info": {
   "codemirror_mode": {
    "name": "ipython",
    "version": 3
   },
   "file_extension": ".py",
   "mimetype": "text/x-python",
   "name": "python",
   "nbconvert_exporter": "python",
   "pygments_lexer": "ipython3",
   "version": "3.8.3"
  }
 },
 "nbformat": 4,
 "nbformat_minor": 4
}
