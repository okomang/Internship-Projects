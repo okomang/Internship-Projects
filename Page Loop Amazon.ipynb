{
 "cells": [
  {
   "cell_type": "markdown",
   "metadata": {},
   "source": [
    "# Selenium Worked Well My Way"
   ]
  },
  {
   "cell_type": "code",
   "execution_count": 1,
   "metadata": {},
   "outputs": [],
   "source": [
    "import selenium\n",
    "from selenium import webdriver\n",
    "import time"
   ]
  },
  {
   "cell_type": "code",
   "execution_count": 2,
   "metadata": {},
   "outputs": [],
   "source": [
    "driver=webdriver.Chrome(r\"C:\\Users\\HP\\Desktop\\chromedriver.exe\")"
   ]
  },
  {
   "cell_type": "code",
   "execution_count": 3,
   "metadata": {},
   "outputs": [],
   "source": [
    "url='https://www.amazon.in/s?k=best+laptops&page=2&qid=1610748944&ref=sr_pg_2'"
   ]
  },
  {
   "cell_type": "code",
   "execution_count": 4,
   "metadata": {},
   "outputs": [],
   "source": [
    "name=[]"
   ]
  },
  {
   "cell_type": "code",
   "execution_count": 5,
   "metadata": {},
   "outputs": [],
   "source": [
    "for i in range(1,5):\n",
    "    driver.get(f'https://www.amazon.in/s?k=best+laptops&page={i}&qid=1610748944&ref=sr_pg_{i}')\n",
    "    t1=driver.find_elements_by_xpath(\"//span[@class='a-size-medium a-color-base a-text-normal']\")\n",
    "    for i in t1:\n",
    "        a=i.text\n",
    "        name.append(a)"
   ]
  },
  {
   "cell_type": "code",
   "execution_count": 6,
   "metadata": {},
   "outputs": [],
   "source": [
    "import pandas as pd\n",
    "name=pd.DataFrame(name)"
   ]
  },
  {
   "cell_type": "code",
   "execution_count": 7,
   "metadata": {},
   "outputs": [
    {
     "data": {
      "text/html": [
       "<div>\n",
       "<style scoped>\n",
       "    .dataframe tbody tr th:only-of-type {\n",
       "        vertical-align: middle;\n",
       "    }\n",
       "\n",
       "    .dataframe tbody tr th {\n",
       "        vertical-align: top;\n",
       "    }\n",
       "\n",
       "    .dataframe thead th {\n",
       "        text-align: right;\n",
       "    }\n",
       "</style>\n",
       "<table border=\"1\" class=\"dataframe\">\n",
       "  <thead>\n",
       "    <tr style=\"text-align: right;\">\n",
       "      <th></th>\n",
       "      <th>0</th>\n",
       "    </tr>\n",
       "  </thead>\n",
       "  <tbody>\n",
       "    <tr>\n",
       "      <th>0</th>\n",
       "      <td>Lenovo Ideapad S340 Intel Core i5 10th Generat...</td>\n",
       "    </tr>\n",
       "    <tr>\n",
       "      <th>1</th>\n",
       "      <td>Lenovo Ideapad S145 AMD Ryzen 5 15.6\" HD Lapto...</td>\n",
       "    </tr>\n",
       "    <tr>\n",
       "      <th>2</th>\n",
       "      <td>HP 14 Ultra Thin &amp; Light 14-inch Laptop (10th ...</td>\n",
       "    </tr>\n",
       "    <tr>\n",
       "      <th>3</th>\n",
       "      <td>DELL Inspiron 3583 15.6inch HD Laptop (Pentium...</td>\n",
       "    </tr>\n",
       "    <tr>\n",
       "      <th>4</th>\n",
       "      <td>LENOVO V145(81MTA00QIH) AMD/A4-9125/4GB/1TB/WI...</td>\n",
       "    </tr>\n",
       "    <tr>\n",
       "      <th>...</th>\n",
       "      <td>...</td>\n",
       "    </tr>\n",
       "    <tr>\n",
       "      <th>83</th>\n",
       "      <td>Acer One 14 Z2-485 14-inch Laptop (Intel Penti...</td>\n",
       "    </tr>\n",
       "    <tr>\n",
       "      <th>84</th>\n",
       "      <td>(Renewed) Dell Latitude E5550 Laptop (Core I5 ...</td>\n",
       "    </tr>\n",
       "    <tr>\n",
       "      <th>85</th>\n",
       "      <td>(Renewed) Lenovo ThinkPad L430 14-inch Laptop ...</td>\n",
       "    </tr>\n",
       "    <tr>\n",
       "      <th>86</th>\n",
       "      <td>Lenovo IdeaPad S540 10th Gen Intel Core i5 15....</td>\n",
       "    </tr>\n",
       "    <tr>\n",
       "      <th>87</th>\n",
       "      <td>Lenovo Yoga S740 Intel Core i7 10th Gen 14 inc...</td>\n",
       "    </tr>\n",
       "  </tbody>\n",
       "</table>\n",
       "<p>88 rows × 1 columns</p>\n",
       "</div>"
      ],
      "text/plain": [
       "                                                    0\n",
       "0   Lenovo Ideapad S340 Intel Core i5 10th Generat...\n",
       "1   Lenovo Ideapad S145 AMD Ryzen 5 15.6\" HD Lapto...\n",
       "2   HP 14 Ultra Thin & Light 14-inch Laptop (10th ...\n",
       "3   DELL Inspiron 3583 15.6inch HD Laptop (Pentium...\n",
       "4   LENOVO V145(81MTA00QIH) AMD/A4-9125/4GB/1TB/WI...\n",
       "..                                                ...\n",
       "83  Acer One 14 Z2-485 14-inch Laptop (Intel Penti...\n",
       "84  (Renewed) Dell Latitude E5550 Laptop (Core I5 ...\n",
       "85  (Renewed) Lenovo ThinkPad L430 14-inch Laptop ...\n",
       "86  Lenovo IdeaPad S540 10th Gen Intel Core i5 15....\n",
       "87  Lenovo Yoga S740 Intel Core i7 10th Gen 14 inc...\n",
       "\n",
       "[88 rows x 1 columns]"
      ]
     },
     "execution_count": 7,
     "metadata": {},
     "output_type": "execute_result"
    }
   ],
   "source": [
    "name"
   ]
  },
  {
   "cell_type": "markdown",
   "metadata": {},
   "source": [
    "# Any reason for BS not working?"
   ]
  },
  {
   "cell_type": "code",
   "execution_count": 13,
   "metadata": {},
   "outputs": [],
   "source": [
    "from bs4 import BeautifulSoup\n",
    "import requests"
   ]
  },
  {
   "cell_type": "code",
   "execution_count": 14,
   "metadata": {},
   "outputs": [],
   "source": [
    "sname=[]"
   ]
  },
  {
   "cell_type": "code",
   "execution_count": 15,
   "metadata": {},
   "outputs": [],
   "source": [
    "for i in range(1,5):\n",
    "    r=requests.get(f'https://www.amazon.in/s?k=best+laptops&page={i}&qid=1610748944&ref=sr_pg_{i}')\n",
    "    s=BeautifulSoup(r.content,'html.parser')\n",
    "    a=s.find_all('span',{'class':'a-size-medium a-color-base a-text-normal'})\n",
    "    for i in a:\n",
    "        sname.append(i.get_text())"
   ]
  },
  {
   "cell_type": "code",
   "execution_count": 17,
   "metadata": {},
   "outputs": [],
   "source": [
    "sname=pd.DataFrame(sname)"
   ]
  },
  {
   "cell_type": "code",
   "execution_count": 18,
   "metadata": {},
   "outputs": [
    {
     "data": {
      "text/html": [
       "<div>\n",
       "<style scoped>\n",
       "    .dataframe tbody tr th:only-of-type {\n",
       "        vertical-align: middle;\n",
       "    }\n",
       "\n",
       "    .dataframe tbody tr th {\n",
       "        vertical-align: top;\n",
       "    }\n",
       "\n",
       "    .dataframe thead th {\n",
       "        text-align: right;\n",
       "    }\n",
       "</style>\n",
       "<table border=\"1\" class=\"dataframe\">\n",
       "  <thead>\n",
       "    <tr style=\"text-align: right;\">\n",
       "      <th></th>\n",
       "      <th>0</th>\n",
       "    </tr>\n",
       "  </thead>\n",
       "  <tbody>\n",
       "    <tr>\n",
       "      <th>0</th>\n",
       "      <td>HP Pavilion x360 Touchscreen 2-in-1 FHD 14-inc...</td>\n",
       "    </tr>\n",
       "    <tr>\n",
       "      <th>1</th>\n",
       "      <td>Acer Acer One Intel Pentium Gold 4415U Process...</td>\n",
       "    </tr>\n",
       "    <tr>\n",
       "      <th>2</th>\n",
       "      <td>HP 245 G7 14-inch Laptop (AMD Ryzen 5-3500U/4G...</td>\n",
       "    </tr>\n",
       "    <tr>\n",
       "      <th>3</th>\n",
       "      <td>Lenovo 82C7A006IH V15 ADA Laptop (AMD Athlon S...</td>\n",
       "    </tr>\n",
       "    <tr>\n",
       "      <th>4</th>\n",
       "      <td>(Renewed) Dell Latitude Laptop 3340 Intel Core...</td>\n",
       "    </tr>\n",
       "    <tr>\n",
       "      <th>5</th>\n",
       "      <td>HP 15 Entry Level 15.6-inch HD Laptop (AMD 302...</td>\n",
       "    </tr>\n",
       "    <tr>\n",
       "      <th>6</th>\n",
       "      <td>(Renewed) Dell Latitude 15.6 inch Laptop (Inte...</td>\n",
       "    </tr>\n",
       "    <tr>\n",
       "      <th>7</th>\n",
       "      <td>ASUS Laptop Expert Book P2451FA-BV1004T (i3-10...</td>\n",
       "    </tr>\n",
       "    <tr>\n",
       "      <th>8</th>\n",
       "      <td>(Renewed) HP ProBook 440 G3 Laptop (Core i3 6T...</td>\n",
       "    </tr>\n",
       "    <tr>\n",
       "      <th>9</th>\n",
       "      <td>(Renewed) Lenovo Thinkpad Laptop X250 Intel Co...</td>\n",
       "    </tr>\n",
       "    <tr>\n",
       "      <th>10</th>\n",
       "      <td>(Renewed) Dell Latitude 15.6 inch Laptop (Inte...</td>\n",
       "    </tr>\n",
       "    <tr>\n",
       "      <th>11</th>\n",
       "      <td>Lenovo 82C700D4IH V15 ADA Laptop (AMD Athlon S...</td>\n",
       "    </tr>\n",
       "    <tr>\n",
       "      <th>12</th>\n",
       "      <td>(Renewed) Lenovo Thinkpad X230 12.5-inch Lapto...</td>\n",
       "    </tr>\n",
       "    <tr>\n",
       "      <th>13</th>\n",
       "      <td>HP 15 Thin &amp; Light 15.6-inch FHD Laptop with A...</td>\n",
       "    </tr>\n",
       "    <tr>\n",
       "      <th>14</th>\n",
       "      <td>(Renewed) Lenovo Thinkpad X260 12.5-inch Tough...</td>\n",
       "    </tr>\n",
       "    <tr>\n",
       "      <th>15</th>\n",
       "      <td>(Renewed) Lenovo Thinkpad Laptop X250 Intel Co...</td>\n",
       "    </tr>\n",
       "    <tr>\n",
       "      <th>16</th>\n",
       "      <td>(Renewed) Lenovo Thinkpad Laptop X250 Intel Co...</td>\n",
       "    </tr>\n",
       "    <tr>\n",
       "      <th>17</th>\n",
       "      <td>(Renewed) Lenovo Thinkpad Laptop X250 Intel Co...</td>\n",
       "    </tr>\n",
       "    <tr>\n",
       "      <th>18</th>\n",
       "      <td>Acer Aspire 3 A315-23 15.6-inch Laptop (AMD Ry...</td>\n",
       "    </tr>\n",
       "    <tr>\n",
       "      <th>19</th>\n",
       "      <td>Lenovo ThinkPad E14 AMD Ryzen 5 4500U 14-inch ...</td>\n",
       "    </tr>\n",
       "    <tr>\n",
       "      <th>20</th>\n",
       "      <td>(Renewed) Lenovo ThinkPad L430 14-inch Laptop ...</td>\n",
       "    </tr>\n",
       "    <tr>\n",
       "      <th>21</th>\n",
       "      <td>(Renewed) Lenovo ThinkPad L430 14-inch Laptop ...</td>\n",
       "    </tr>\n",
       "    <tr>\n",
       "      <th>22</th>\n",
       "      <td>(Renewed) Lenovo ThinkPad L430 14-inch Laptop ...</td>\n",
       "    </tr>\n",
       "    <tr>\n",
       "      <th>23</th>\n",
       "      <td>Lenovo IdeaPad Gaming 3 AMD Ryzen 5 4600H 15.6...</td>\n",
       "    </tr>\n",
       "    <tr>\n",
       "      <th>24</th>\n",
       "      <td>Acer One 14 Z2-485 14-inch Laptop (Intel Penti...</td>\n",
       "    </tr>\n",
       "    <tr>\n",
       "      <th>25</th>\n",
       "      <td>(Renewed) Dell Latitude E5550 Laptop (Core I5 ...</td>\n",
       "    </tr>\n",
       "    <tr>\n",
       "      <th>26</th>\n",
       "      <td>(Renewed) Lenovo ThinkPad L430 14-inch Laptop ...</td>\n",
       "    </tr>\n",
       "    <tr>\n",
       "      <th>27</th>\n",
       "      <td>(Renewed) Lenovo Essential G510 15.6-inch Lapt...</td>\n",
       "    </tr>\n",
       "    <tr>\n",
       "      <th>28</th>\n",
       "      <td>HP 14 Thin &amp; Light 14-inch FHD Laptop (11th Ge...</td>\n",
       "    </tr>\n",
       "    <tr>\n",
       "      <th>29</th>\n",
       "      <td>(Renewed) Lenovo Thinkpad Laptop X250 Intel Co...</td>\n",
       "    </tr>\n",
       "    <tr>\n",
       "      <th>30</th>\n",
       "      <td>(Renewed) Lenovo Thinkpad Laptop X250 Intel Co...</td>\n",
       "    </tr>\n",
       "    <tr>\n",
       "      <th>31</th>\n",
       "      <td>(Renewed) Lenovo Thinkpad Laptop X250 Intel Co...</td>\n",
       "    </tr>\n",
       "  </tbody>\n",
       "</table>\n",
       "</div>"
      ],
      "text/plain": [
       "                                                    0\n",
       "0   HP Pavilion x360 Touchscreen 2-in-1 FHD 14-inc...\n",
       "1   Acer Acer One Intel Pentium Gold 4415U Process...\n",
       "2   HP 245 G7 14-inch Laptop (AMD Ryzen 5-3500U/4G...\n",
       "3   Lenovo 82C7A006IH V15 ADA Laptop (AMD Athlon S...\n",
       "4   (Renewed) Dell Latitude Laptop 3340 Intel Core...\n",
       "5   HP 15 Entry Level 15.6-inch HD Laptop (AMD 302...\n",
       "6   (Renewed) Dell Latitude 15.6 inch Laptop (Inte...\n",
       "7   ASUS Laptop Expert Book P2451FA-BV1004T (i3-10...\n",
       "8   (Renewed) HP ProBook 440 G3 Laptop (Core i3 6T...\n",
       "9   (Renewed) Lenovo Thinkpad Laptop X250 Intel Co...\n",
       "10  (Renewed) Dell Latitude 15.6 inch Laptop (Inte...\n",
       "11  Lenovo 82C700D4IH V15 ADA Laptop (AMD Athlon S...\n",
       "12  (Renewed) Lenovo Thinkpad X230 12.5-inch Lapto...\n",
       "13  HP 15 Thin & Light 15.6-inch FHD Laptop with A...\n",
       "14  (Renewed) Lenovo Thinkpad X260 12.5-inch Tough...\n",
       "15  (Renewed) Lenovo Thinkpad Laptop X250 Intel Co...\n",
       "16  (Renewed) Lenovo Thinkpad Laptop X250 Intel Co...\n",
       "17  (Renewed) Lenovo Thinkpad Laptop X250 Intel Co...\n",
       "18  Acer Aspire 3 A315-23 15.6-inch Laptop (AMD Ry...\n",
       "19  Lenovo ThinkPad E14 AMD Ryzen 5 4500U 14-inch ...\n",
       "20  (Renewed) Lenovo ThinkPad L430 14-inch Laptop ...\n",
       "21  (Renewed) Lenovo ThinkPad L430 14-inch Laptop ...\n",
       "22  (Renewed) Lenovo ThinkPad L430 14-inch Laptop ...\n",
       "23  Lenovo IdeaPad Gaming 3 AMD Ryzen 5 4600H 15.6...\n",
       "24  Acer One 14 Z2-485 14-inch Laptop (Intel Penti...\n",
       "25  (Renewed) Dell Latitude E5550 Laptop (Core I5 ...\n",
       "26  (Renewed) Lenovo ThinkPad L430 14-inch Laptop ...\n",
       "27  (Renewed) Lenovo Essential G510 15.6-inch Lapt...\n",
       "28  HP 14 Thin & Light 14-inch FHD Laptop (11th Ge...\n",
       "29  (Renewed) Lenovo Thinkpad Laptop X250 Intel Co...\n",
       "30  (Renewed) Lenovo Thinkpad Laptop X250 Intel Co...\n",
       "31  (Renewed) Lenovo Thinkpad Laptop X250 Intel Co..."
      ]
     },
     "execution_count": 18,
     "metadata": {},
     "output_type": "execute_result"
    }
   ],
   "source": [
    "sname"
   ]
  },
  {
   "cell_type": "markdown",
   "metadata": {},
   "source": [
    "# Selenium Worked Well Your Way"
   ]
  },
  {
   "cell_type": "code",
   "execution_count": 8,
   "metadata": {},
   "outputs": [],
   "source": [
    "driver=webdriver.Chrome(r\"C:\\Users\\HP\\Desktop\\chromedriver.exe\")\n",
    "driver.get('https://www.amazon.in/s?k=best+laptops&page=1&qid=1610748944&ref=sr_pg_1')"
   ]
  },
  {
   "cell_type": "code",
   "execution_count": 9,
   "metadata": {},
   "outputs": [],
   "source": [
    "trials=[]"
   ]
  },
  {
   "cell_type": "code",
   "execution_count": 10,
   "metadata": {},
   "outputs": [],
   "source": [
    "for i in range(1,5):\n",
    "    t2=driver.find_elements_by_xpath(\"//span[@class='a-size-medium a-color-base a-text-normal']\")\n",
    "    for i in t2:\n",
    "        a=i.text\n",
    "        trials.append(a)\n",
    "    driver.find_element_by_xpath(\"//li[@class='a-last']/a\").click()\n",
    "    time.sleep(3)"
   ]
  },
  {
   "cell_type": "code",
   "execution_count": 11,
   "metadata": {},
   "outputs": [],
   "source": [
    "trials=pd.DataFrame(trials)"
   ]
  },
  {
   "cell_type": "code",
   "execution_count": 12,
   "metadata": {},
   "outputs": [
    {
     "data": {
      "text/html": [
       "<div>\n",
       "<style scoped>\n",
       "    .dataframe tbody tr th:only-of-type {\n",
       "        vertical-align: middle;\n",
       "    }\n",
       "\n",
       "    .dataframe tbody tr th {\n",
       "        vertical-align: top;\n",
       "    }\n",
       "\n",
       "    .dataframe thead th {\n",
       "        text-align: right;\n",
       "    }\n",
       "</style>\n",
       "<table border=\"1\" class=\"dataframe\">\n",
       "  <thead>\n",
       "    <tr style=\"text-align: right;\">\n",
       "      <th></th>\n",
       "      <th>0</th>\n",
       "    </tr>\n",
       "  </thead>\n",
       "  <tbody>\n",
       "    <tr>\n",
       "      <th>0</th>\n",
       "      <td>Lenovo Ideapad S340 Intel Core i5 10th Generat...</td>\n",
       "    </tr>\n",
       "    <tr>\n",
       "      <th>1</th>\n",
       "      <td>Lenovo Ideapad S145 AMD Ryzen 5 15.6\" HD Lapto...</td>\n",
       "    </tr>\n",
       "    <tr>\n",
       "      <th>2</th>\n",
       "      <td>HP 14 Ultra Thin &amp; Light 14-inch Laptop (10th ...</td>\n",
       "    </tr>\n",
       "    <tr>\n",
       "      <th>3</th>\n",
       "      <td>DELL Inspiron 3583 15.6inch HD Laptop (Pentium...</td>\n",
       "    </tr>\n",
       "    <tr>\n",
       "      <th>4</th>\n",
       "      <td>LENOVO V145(81MTA00QIH) AMD/A4-9125/4GB/1TB/WI...</td>\n",
       "    </tr>\n",
       "    <tr>\n",
       "      <th>...</th>\n",
       "      <td>...</td>\n",
       "    </tr>\n",
       "    <tr>\n",
       "      <th>83</th>\n",
       "      <td>Acer One 14 Z2-485 14-inch Laptop (Intel Penti...</td>\n",
       "    </tr>\n",
       "    <tr>\n",
       "      <th>84</th>\n",
       "      <td>(Renewed) Dell Latitude E5550 Laptop (Core I5 ...</td>\n",
       "    </tr>\n",
       "    <tr>\n",
       "      <th>85</th>\n",
       "      <td>(Renewed) Lenovo ThinkPad L430 14-inch Laptop ...</td>\n",
       "    </tr>\n",
       "    <tr>\n",
       "      <th>86</th>\n",
       "      <td>Lenovo IdeaPad S540 10th Gen Intel Core i5 15....</td>\n",
       "    </tr>\n",
       "    <tr>\n",
       "      <th>87</th>\n",
       "      <td>Lenovo Yoga S740 Intel Core i7 10th Gen 14 inc...</td>\n",
       "    </tr>\n",
       "  </tbody>\n",
       "</table>\n",
       "<p>88 rows × 1 columns</p>\n",
       "</div>"
      ],
      "text/plain": [
       "                                                    0\n",
       "0   Lenovo Ideapad S340 Intel Core i5 10th Generat...\n",
       "1   Lenovo Ideapad S145 AMD Ryzen 5 15.6\" HD Lapto...\n",
       "2   HP 14 Ultra Thin & Light 14-inch Laptop (10th ...\n",
       "3   DELL Inspiron 3583 15.6inch HD Laptop (Pentium...\n",
       "4   LENOVO V145(81MTA00QIH) AMD/A4-9125/4GB/1TB/WI...\n",
       "..                                                ...\n",
       "83  Acer One 14 Z2-485 14-inch Laptop (Intel Penti...\n",
       "84  (Renewed) Dell Latitude E5550 Laptop (Core I5 ...\n",
       "85  (Renewed) Lenovo ThinkPad L430 14-inch Laptop ...\n",
       "86  Lenovo IdeaPad S540 10th Gen Intel Core i5 15....\n",
       "87  Lenovo Yoga S740 Intel Core i7 10th Gen 14 inc...\n",
       "\n",
       "[88 rows x 1 columns]"
      ]
     },
     "execution_count": 12,
     "metadata": {},
     "output_type": "execute_result"
    }
   ],
   "source": [
    "trials"
   ]
  },
  {
   "cell_type": "code",
   "execution_count": null,
   "metadata": {},
   "outputs": [],
   "source": []
  }
 ],
 "metadata": {
  "kernelspec": {
   "display_name": "Python 3",
   "language": "python",
   "name": "python3"
  },
  "language_info": {
   "codemirror_mode": {
    "name": "ipython",
    "version": 3
   },
   "file_extension": ".py",
   "mimetype": "text/x-python",
   "name": "python",
   "nbconvert_exporter": "python",
   "pygments_lexer": "ipython3",
   "version": "3.8.3"
  }
 },
 "nbformat": 4,
 "nbformat_minor": 4
}
